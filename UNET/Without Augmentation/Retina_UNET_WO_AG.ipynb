{
  "nbformat": 4,
  "nbformat_minor": 0,
  "metadata": {
    "colab": {
      "provenance": [],
      "machine_shape": "hm"
    },
    "kernelspec": {
      "name": "python3",
      "display_name": "Python 3"
    },
    "language_info": {
      "name": "python"
    },
    "accelerator": "GPU",
    "gpuClass": "standard"
  },
  "cells": [
    {
      "cell_type": "markdown",
      "source": [
        "**DATA IMPORT AND AUGMENTATION**"
      ],
      "metadata": {
        "id": "JUCsxc0svSXP"
      }
    },
    {
      "cell_type": "code",
      "source": [
        "from google.colab import drive\n",
        "drive.mount('/content/drive')"
      ],
      "metadata": {
        "colab": {
          "base_uri": "https://localhost:8080/"
        },
        "id": "-rFozLU-0e9d",
        "outputId": "2bb21ed5-5e16-4b4d-e712-8c8c05a7974b"
      },
      "execution_count": 49,
      "outputs": [
        {
          "output_type": "stream",
          "name": "stdout",
          "text": [
            "Drive already mounted at /content/drive; to attempt to forcibly remount, call drive.mount(\"/content/drive\", force_remount=True).\n"
          ]
        }
      ]
    },
    {
      "cell_type": "code",
      "source": [
        "import torch\n",
        "print(torch.cuda.get_device_name(0))"
      ],
      "metadata": {
        "colab": {
          "base_uri": "https://localhost:8080/"
        },
        "id": "pcBjt_ub1kD2",
        "outputId": "19bcc0c9-f922-4acb-92e7-e465f9758edd"
      },
      "execution_count": 50,
      "outputs": [
        {
          "output_type": "stream",
          "name": "stdout",
          "text": [
            "Tesla T4\n"
          ]
        }
      ]
    },
    {
      "cell_type": "code",
      "execution_count": 51,
      "metadata": {
        "id": "cgXKZZhXhCZI"
      },
      "outputs": [],
      "source": [
        "import os\n",
        "import numpy as np\n",
        "import cv2\n",
        "from glob import glob\n",
        "from tqdm import tqdm\n",
        "import imageio\n",
        "from albumentations import HorizontalFlip, VerticalFlip, Rotate"
      ]
    },
    {
      "cell_type": "code",
      "source": [
        "#Create new path to store augmented images\n",
        "def create_dir(path):\n",
        "  if not os.path.exists(path):\n",
        "    os.makedirs(path)"
      ],
      "metadata": {
        "id": "fAI6DT9yjUI7"
      },
      "execution_count": 52,
      "outputs": []
    },
    {
      "cell_type": "code",
      "source": [
        "def load_data(path):\n",
        "  train_x = sorted(glob(os.path.join(path, \"training\", \"images\", \"*.tif\")))\n",
        "  train_y = sorted(glob(os.path.join(path, \"training\", \"1st_manual\", \"*.gif\")))\n",
        "\n",
        "  test_x = sorted(glob(os.path.join(path, \"test\", \"images\", \"*.tif\")))\n",
        "  test_y = sorted(glob(os.path.join(path, \"test\", \"1st_manual\", \"*.gif\")))\n",
        "\n",
        "  return (train_x, train_y), (test_x,test_y)"
      ],
      "metadata": {
        "id": "G_hFgqm_huvM"
      },
      "execution_count": 53,
      "outputs": []
    },
    {
      "cell_type": "code",
      "source": [
        "def augment_data(images, masks, save_path, augment=True):\n",
        "  size=(512,512)\n",
        "\n",
        "  #Now we loop over image and mask\n",
        "  for idx, (x,y) in tqdm(enumerate(zip(images,masks)), total=len(images)):\n",
        "    #extracting name of the image\n",
        "    name = (x.split('/')[-1]).split(\".\")[0]\n",
        "\n",
        "    #Reading the image and mask\n",
        "    #for image we use cv2 and for the mask we use imageio\n",
        "\n",
        "    x = cv2.imread(x, cv2.IMREAD_COLOR)\n",
        "    y = imageio.mimread(y)[0]\n",
        "    if augment == True:\n",
        "      aug = HorizontalFlip(p=1.0)\n",
        "      augmented = aug(image=x, mask=y)\n",
        "      x1 = augmented[\"image\"]\n",
        "      y1 = augmented[\"mask\"]\n",
        "\n",
        "      aug = VerticalFlip(p=1.0)\n",
        "      augmented = aug(image=x, mask=y)\n",
        "      x2 = augmented[\"image\"]\n",
        "      y2 = augmented[\"mask\"]\n",
        "\n",
        "      aug = Rotate(limit=45, p=1.0)\n",
        "      augmented = aug(image=x, mask=y)\n",
        "      x3 = augmented[\"image\"]\n",
        "      y3 = augmented[\"mask\"]\n",
        "\n",
        "      X = [x, x1, x2, x3]\n",
        "      Y = [y, y1, y2, y3]\n",
        "\n",
        "    else:\n",
        "      X = [x]\n",
        "      Y = [y]\n",
        "\n",
        "    index = 0\n",
        "    for i, m in zip(X,Y):\n",
        "      i = cv2.resize(i, size)\n",
        "      m = cv2.resize(m, size)\n",
        "\n",
        "      tmp_image_name = f\"{name}_{index}.png\"\n",
        "      tmp_mask_name = f\"{name}_{index}.png\"\n",
        "\n",
        "      image_path = os.path.join(save_path, \"image\", tmp_image_name)\n",
        "      mask_path = os.path.join(save_path, \"mask\", tmp_mask_name)  \n",
        "\n",
        "      cv2.imwrite(image_path, i)\n",
        "      cv2.imwrite(mask_path, m)  \n",
        "\n",
        "      index+=1\n"
      ],
      "metadata": {
        "id": "QkOGle3_j3V3"
      },
      "execution_count": 54,
      "outputs": []
    },
    {
      "cell_type": "code",
      "source": [
        "if __name__ == \"main\":\n",
        "  np.random.seed(42)"
      ],
      "metadata": {
        "id": "4wRoqZ3RhPxg"
      },
      "execution_count": 55,
      "outputs": []
    },
    {
      "cell_type": "code",
      "source": [
        "##Load the data\n",
        "data_path = \"/content/drive/MyDrive/Retina Vessel Segmentation/DRIVE/\"\n",
        "(train_x, train_y), (test_x,test_y) = load_data(data_path)\n",
        "\n",
        "print(f\"Train: {len(train_x)} - {len(train_y)}\")\n",
        "print(f\"Test: {len(test_x)} - {len(test_y)}\")"
      ],
      "metadata": {
        "colab": {
          "base_uri": "https://localhost:8080/"
        },
        "id": "OvdawDMMhe4p",
        "outputId": "168bb5dd-2360-4539-827f-3dfdf9049532"
      },
      "execution_count": 56,
      "outputs": [
        {
          "output_type": "stream",
          "name": "stdout",
          "text": [
            "Train: 20 - 20\n",
            "Test: 20 - 20\n"
          ]
        }
      ]
    },
    {
      "cell_type": "code",
      "source": [
        "#Now we create directories to save our augmented data\n",
        "create_dir(\"new_data/train/image/\")\n",
        "create_dir(\"new_data/train/mask/\")\n",
        "create_dir(\"new_data/test/image/\")\n",
        "create_dir(\"new_data/test/mask/\")"
      ],
      "metadata": {
        "id": "SuMxiru6hs2E"
      },
      "execution_count": 57,
      "outputs": []
    },
    {
      "cell_type": "code",
      "source": [
        "#Data augmentation\n",
        "augment_data(train_x,train_y,\"new_data/train/\",augment=False)"
      ],
      "metadata": {
        "colab": {
          "base_uri": "https://localhost:8080/"
        },
        "id": "fsLp_bzzjtfv",
        "outputId": "6b1a913c-61d9-40b3-ea4d-8cb575507b10"
      },
      "execution_count": 58,
      "outputs": [
        {
          "output_type": "stream",
          "name": "stderr",
          "text": [
            "100%|██████████| 20/20 [00:00<00:00, 32.31it/s]\n"
          ]
        }
      ]
    },
    {
      "cell_type": "code",
      "source": [
        "augment_data(test_x,test_y,\"new_data/test/\",augment=False)"
      ],
      "metadata": {
        "colab": {
          "base_uri": "https://localhost:8080/"
        },
        "id": "EETwUiuFkgAB",
        "outputId": "c5c8fc72-522b-4c45-9f78-bc94553bd283"
      },
      "execution_count": 59,
      "outputs": [
        {
          "output_type": "stream",
          "name": "stderr",
          "text": [
            "100%|██████████| 20/20 [00:00<00:00, 32.49it/s]\n"
          ]
        }
      ]
    },
    {
      "cell_type": "markdown",
      "source": [
        "**CREATING U-NET ARCHITECTURE**"
      ],
      "metadata": {
        "id": "rRKDYW9XvaSA"
      }
    },
    {
      "cell_type": "code",
      "source": [
        "import torch\n",
        "import torch.nn as nn"
      ],
      "metadata": {
        "id": "gFJWt19dvII0"
      },
      "execution_count": 60,
      "outputs": []
    },
    {
      "cell_type": "code",
      "source": [
        "class conv_block(nn.Module):\n",
        "  def __init__(self, in_c, out_c):\n",
        "    super().__init__()\n",
        "\n",
        "    self.conv1 = nn.Conv2d(in_c,out_c,kernel_size=3,padding=1)\n",
        "    self.bn1 = nn.BatchNorm2d(out_c)\n",
        "\n",
        "    self.conv2 = nn.Conv2d(out_c,out_c,kernel_size=3,padding=1)\n",
        "    self.bn2 = nn.BatchNorm2d(out_c)\n",
        "\n",
        "    self.relu = nn.ReLU()\n",
        "\n",
        "  def forward(self, inputs):\n",
        "    x = self.conv1(inputs)\n",
        "    x = self.bn1(x)\n",
        "    x = self.relu(x)\n",
        "\n",
        "    x = self.conv2(x)\n",
        "    x = self.bn2(x)\n",
        "    x = self.relu(x)\n",
        "\n",
        "    return x\n",
        "\n",
        "\n",
        "class encoder_block(nn.Module):\n",
        "  def __init__(self, in_c,out_c):\n",
        "    super().__init__()\n",
        "\n",
        "    self.conv = conv_block(in_c, out_c)\n",
        "    self.pool = nn.MaxPool2d((2,2))\n",
        "\n",
        "  def forward(self, inputs):\n",
        "    x = self.conv(inputs)\n",
        "    p = self.pool(x)\n",
        "\n",
        "    return x,p\n",
        "\n",
        "class decoder_block(nn.Module):\n",
        "  def __init__(self, in_c, out_c):\n",
        "    super().__init__()\n",
        "\n",
        "    self.up = nn.ConvTranspose2d(in_c, out_c, kernel_size=2, stride=2, padding=0)\n",
        "    #Number of input channels will be outputchannles*2\n",
        "    self.conv = conv_block(out_c+out_c, out_c)\n",
        "\n",
        "  def forward(self, inputs, skip):\n",
        "    x = self.up(inputs)\n",
        "    x = torch.cat([x, skip], axis=1)\n",
        "    x = self.conv(x)\n",
        "    return x\n",
        "   \n",
        "\n",
        "\n",
        "class build_unet(nn.Module):\n",
        "    def __init__(self):\n",
        "        super().__init__()\n",
        "\n",
        "        ##Encoder \n",
        "        self.e1 = encoder_block(3, 64)\n",
        "        self.e2 = encoder_block(64, 128)\n",
        "        self.e3 = encoder_block(128, 256)\n",
        "        self.e4 = encoder_block(256, 512)\n",
        "\n",
        "        ##Bottleneck\n",
        "        self.b = conv_block(512, 1024)  \n",
        "\n",
        "        ##Decoder\n",
        "        self.d1 = decoder_block(1024, 512)\n",
        "        self.d2 = decoder_block(512, 256)\n",
        "        self.d3 = decoder_block(256, 128)\n",
        "        self.d4 = decoder_block(128, 64)\n",
        "\n",
        "\n",
        "        ##Classifier \n",
        "        #To generate the final segmentation\n",
        "        self.outputs = nn.Conv2d(64,1, kernel_size=1, padding=0)\n",
        "\n",
        "    \n",
        "    def forward(self, inputs):\n",
        "        ##Encoder \n",
        "        #The output from the encoder layer acts as a skip connection for the decoder layer\n",
        "        #s1 stands for skip connections\n",
        "        #p1 stands for pooling output\n",
        "\n",
        "        s1, p1 = self.e1(inputs)\n",
        "        s2, p2 = self.e2(p1)\n",
        "        s3, p3 = self.e3(p2)\n",
        "        s4, p4 = self.e4(p3)\n",
        "\n",
        "        #Bottleneck\n",
        "        b = self.b(p4)\n",
        "        #print(s1.shape, s2.shape, s3.shape, s4.shape)\n",
        "        #print(b.shape)\n",
        "\n",
        "        ##Decoder\n",
        "        d1 = self.d1(b, s4)\n",
        "        d2 = self.d2(d1, s3)\n",
        "        d3 = self.d3(d2, s2)\n",
        "        d4 = self.d4(d3, s1)\n",
        "\n",
        "        #Classifier\n",
        "        outputs = self.outputs(d4)\n",
        "        return outputs\n",
        "\n",
        "\n",
        "\n",
        "if __name__ == \"__main__\":\n",
        "  x = torch.randn((2,3,512,512))\n",
        "  f = build_unet()\n",
        "  y=f(x)\n",
        "  print(y.shape)"
      ],
      "metadata": {
        "colab": {
          "base_uri": "https://localhost:8080/"
        },
        "id": "envlmumbvjAO",
        "outputId": "23d8e6c0-d1de-40a9-a663-f02eea5dff59"
      },
      "execution_count": 61,
      "outputs": [
        {
          "output_type": "stream",
          "name": "stdout",
          "text": [
            "torch.Size([2, 1, 512, 512])\n"
          ]
        }
      ]
    },
    {
      "cell_type": "markdown",
      "source": [
        "**LOSS**"
      ],
      "metadata": {
        "id": "a1aAVuSL6HBg"
      }
    },
    {
      "cell_type": "code",
      "source": [
        "import torch.nn.functional as F\n",
        "\n",
        "class DiceLoss(nn.Module):\n",
        "    def __init__(self, weight=None, size_average=True):\n",
        "        super(DiceLoss, self).__init__()\n",
        "\n",
        "    def forward(self, inputs, targets, smooth=1):\n",
        "\n",
        "        #comment out if your model contains a sigmoid or equivalent activation layer\n",
        "        inputs = torch.sigmoid(inputs)\n",
        "\n",
        "        #flatten label and prediction tensors\n",
        "        inputs = inputs.view(-1)\n",
        "        targets = targets.view(-1)\n",
        "\n",
        "        intersection = (inputs * targets).sum()\n",
        "        dice = (2.*intersection + smooth)/(inputs.sum() + targets.sum() + smooth)\n",
        "\n",
        "        return 1 - dice"
      ],
      "metadata": {
        "id": "rEKJ3S4U6LEG"
      },
      "execution_count": 62,
      "outputs": []
    },
    {
      "cell_type": "code",
      "source": [
        "class DiceBCELoss(nn.Module):\n",
        "    def __init__(self, weight=None, size_average=True):\n",
        "        super(DiceBCELoss, self).__init__()\n",
        "\n",
        "    def forward(self, inputs, targets, smooth=1):\n",
        "\n",
        "        #comment out if your model contains a sigmoid or equivalent activation layer\n",
        "        inputs = torch.sigmoid(inputs)\n",
        "\n",
        "        #flatten label and prediction tensors\n",
        "        inputs = inputs.view(-1)\n",
        "        targets = targets.view(-1)\n",
        "\n",
        "        intersection = (inputs * targets).sum()\n",
        "        dice_loss = 1 - (2.*intersection + smooth)/(inputs.sum() + targets.sum() + smooth)\n",
        "        BCE = F.binary_cross_entropy(inputs, targets, reduction='mean')\n",
        "        Dice_BCE = BCE + dice_loss\n",
        "\n",
        "        return Dice_BCE"
      ],
      "metadata": {
        "id": "nzNm_HP46Qb_"
      },
      "execution_count": 63,
      "outputs": []
    },
    {
      "cell_type": "markdown",
      "source": [
        "**UTILS**"
      ],
      "metadata": {
        "id": "kjhp7D2n6WmY"
      }
    },
    {
      "cell_type": "code",
      "source": [
        "import os\n",
        "import time\n",
        "import random\n",
        "import numpy as np\n",
        "import cv2\n",
        "import torch\n",
        "\n",
        "##Seeding the randomness\n",
        "def seeding(seed):\n",
        "    random.seed(seed)\n",
        "    os.environ[\"PYTHONHASHSEED\"] = str(seed)\n",
        "    np.random.seed(seed)\n",
        "    torch.manual_seed(seed)\n",
        "    torch.cuda.manual_seed(seed)\n",
        "    torch.backends.cudnn.deterministic = True\n",
        "\n",
        "##Create a directory\n",
        "def create_dir(path):\n",
        "    if not os.path.exists(path):\n",
        "        os.makedirs(path)\n",
        "\n",
        "##Calculate the time taken\n",
        "def epoch_time(start_time, end_time):\n",
        "    elapsed_time = end_time - start_time\n",
        "    elapsed_mins = int(elapsed_time / 60)\n",
        "    elapsed_secs = int(elapsed_time - (elapsed_mins * 60))\n",
        "    return elapsed_mins, elapsed_secs"
      ],
      "metadata": {
        "id": "jLpG3hzv6Zp_"
      },
      "execution_count": 64,
      "outputs": []
    },
    {
      "cell_type": "markdown",
      "source": [
        "**TRAINING**"
      ],
      "metadata": {
        "id": "EufHoK3H5sQ4"
      }
    },
    {
      "cell_type": "code",
      "source": [
        "import os\n",
        "import time\n",
        "from glob import glob\n",
        "\n",
        "from torch.utils.data import DataLoader"
      ],
      "metadata": {
        "id": "ml__ECvtwLWW"
      },
      "execution_count": 65,
      "outputs": []
    },
    {
      "cell_type": "code",
      "source": [
        "if __name__ == \"__main__\":\n",
        "  #Seeding\n",
        "  seeding(42)\n",
        "\n",
        "  #Saving the checkpoints and other files\n",
        "  create_dir(\"files\")\n",
        "\n",
        "  #load the dataset\n",
        "  train_x = sorted(glob(\"/content/new_data/train/image/*\"))\n",
        "  train_y = sorted(glob(\"/content/new_data/train/mask/*\"))\n",
        "\n",
        "  valid_x = sorted(glob(\"/content/new_data/test/image/*\"))\n",
        "  valid_y = sorted(glob(\"/content/new_data/test/mask/*\"))\n",
        "\n",
        "  data_str = f\"Dataset Size:\\nTrain: {len(train_x)} - Valid:{len(test_x)}\"\n",
        "  print(data_str)"
      ],
      "metadata": {
        "colab": {
          "base_uri": "https://localhost:8080/"
        },
        "id": "Byp6vkmN58Zl",
        "outputId": "eab53695-d822-4154-ccaa-81a1718da850"
      },
      "execution_count": 66,
      "outputs": [
        {
          "output_type": "stream",
          "name": "stdout",
          "text": [
            "Dataset Size:\n",
            "Train: 20 - Valid:20\n"
          ]
        }
      ]
    },
    {
      "cell_type": "code",
      "source": [
        "##Hyperparameters\n",
        "H = 512\n",
        "W = 512\n",
        "size = (H,W)\n",
        "batch_size = 4\n",
        "num_epochs = 200\n",
        "lr = 0.0001\n",
        "checkpoint_path = \"files/checkpoint.pth\"\n",
        "device = \"cuda\" if torch.cuda.is_available() else \"cpu\"\n",
        "print(device)"
      ],
      "metadata": {
        "colab": {
          "base_uri": "https://localhost:8080/"
        },
        "id": "fo_nVyCK7Yll",
        "outputId": "1d1037c0-a336-4d8f-e923-e858b29b6556"
      },
      "execution_count": 67,
      "outputs": [
        {
          "output_type": "stream",
          "name": "stdout",
          "text": [
            "cuda\n"
          ]
        }
      ]
    },
    {
      "cell_type": "markdown",
      "source": [
        "**DATASET AND LOADER**"
      ],
      "metadata": {
        "id": "-JM99Ucx9OR6"
      }
    },
    {
      "cell_type": "code",
      "source": [
        "import os \n",
        "import numpy as np\n",
        "import cv2\n",
        "import torch\n",
        "from torch.utils.data import Dataset"
      ],
      "metadata": {
        "id": "BOSg1eWh8Xx8"
      },
      "execution_count": 68,
      "outputs": []
    },
    {
      "cell_type": "code",
      "source": [
        "class DriveDataset(Dataset):\n",
        "  def __init__(self, images_path, masks_path):\n",
        "    self.images_path = images_path\n",
        "    self.masks_path = masks_path\n",
        "    self.n_samples = len(images_path)\n",
        "\n",
        "  def __getitem__(self, index):\n",
        "    #Reading the image\n",
        "    #Read the image in RGB format\n",
        "    image = cv2.imread(self.images_path[index], cv2.IMREAD_COLOR)\n",
        "    #Normalize the image by dividing with 255\n",
        "    image = image/255.0\n",
        "    #Transpose the image since it had channel last approach and for pytorch we need channel first\n",
        "    image = np.transpose(image, (2,0,1))\n",
        "    #Then we convert it into float32\n",
        "    image = image.astype(np.float32)\n",
        "    #Then we convert it to a torch tensor\n",
        "    image = torch.from_numpy(image)\n",
        "\n",
        "    #Reading the mask\n",
        "    #We do not need transpose for mask\n",
        "    mask = cv2.imread(self.masks_path[index], cv2.IMREAD_GRAYSCALE)\n",
        "    mask = mask/255.0\n",
        "    mask = np.expand_dims(mask, axis=0)##(1,512,512)\n",
        "    mask = mask.astype(np.float32)\n",
        "    mask = torch.from_numpy(mask)\n",
        "\n",
        "    return image, mask\n",
        "\n",
        "  def __len__(self):\n",
        "    return self.n_samples\n"
      ],
      "metadata": {
        "id": "sGoOgIyp9N1Q"
      },
      "execution_count": 69,
      "outputs": []
    },
    {
      "cell_type": "code",
      "source": [
        "train_dataset = DriveDataset(train_x, train_y)\n",
        "valid_dataset = DriveDataset(valid_x, valid_y)\n",
        "\n",
        "train_loader = DataLoader(\n",
        "    dataset = train_dataset,\n",
        "    batch_size = batch_size,\n",
        "    shuffle = True,\n",
        "    num_workers=2\n",
        ")\n",
        "\n",
        "valid_loader = DataLoader(\n",
        "    dataset = valid_dataset,\n",
        "    batch_size = batch_size,\n",
        "    shuffle = False,\n",
        "    num_workers=2\n",
        ")"
      ],
      "metadata": {
        "id": "pAbCdie7-xVC"
      },
      "execution_count": 70,
      "outputs": []
    },
    {
      "cell_type": "code",
      "source": [
        "##Initialising the model\n",
        "model = build_unet()\n",
        "model = model.to(device=device)\n",
        "\n",
        "optimizer = torch.optim.Adam(model.parameters(), lr=lr)\n",
        "scheduler = torch.optim.lr_scheduler.ReduceLROnPlateau(optimizer,'min', patience=5, verbose=True)\n",
        "loss_fn = DiceBCELoss()"
      ],
      "metadata": {
        "id": "18OXX0zo_alM"
      },
      "execution_count": 71,
      "outputs": []
    },
    {
      "cell_type": "code",
      "source": [
        "import os, time\n",
        "from operator import add\n",
        "import numpy as np\n",
        "from glob import glob\n",
        "import cv2\n",
        "from tqdm import tqdm\n",
        "import imageio\n",
        "import torch\n",
        "from sklearn.metrics import accuracy_score, f1_score, jaccard_score, precision_score, recall_score\n",
        "\n",
        "def calculate_metrics(y_true, y_pred, type=\"All\"):\n",
        "    ##Ground truth\n",
        "    y_true = y_true.cpu().detach().numpy()\n",
        "    y_true = y_true > 0.5\n",
        "    y_true = y_true.astype(np.uint8)\n",
        "    y_true = y_true.reshape(-1)\n",
        "\n",
        "    ##Prediction \n",
        "    y_pred = y_pred.cpu().detach().numpy()\n",
        "    y_pred = y_pred > 0.5\n",
        "    y_pred = y_pred.astype(np.uint8)\n",
        "    y_pred = y_pred.reshape(-1)\n",
        "\n",
        "    score_jaccard = jaccard_score(y_true, y_pred)\n",
        "    score_f1 = f1_score(y_true, y_pred)\n",
        "    score_recall = recall_score(y_true, y_pred)\n",
        "    score_precision = precision_score(y_true, y_pred)\n",
        "    score_acc = accuracy_score(y_true, y_pred)\n",
        "\n",
        "    if type == \"Jaccard\":\n",
        "      return score_jaccard\n",
        "    elif type == \"F1\":\n",
        "      return score_f1\n",
        "    elif type == \"Recall\":\n",
        "      return score_recall\n",
        "    elif type == \"Precision\":\n",
        "      return score_precision\n",
        "    elif type == \"Accuracy\":\n",
        "      return score_acc\n",
        "    else:\n",
        "      return [score_jaccard,score_f1,score_recall,score_precision,score_acc]"
      ],
      "metadata": {
        "id": "CHP7wf0_23N9"
      },
      "execution_count": 72,
      "outputs": []
    },
    {
      "cell_type": "code",
      "source": [
        "##Specify the training function\n",
        "\n",
        "def train(model, loader, optimizer, loss_fn, device):\n",
        "  epoch_loss = 0.0\n",
        "  model.train()\n",
        "  for x,y in tqdm(loader):\n",
        "    x = x.to(device, dtype=torch.float32)\n",
        "    y = y.to(device, dtype=torch.float32)\n",
        "\n",
        "    #Optimizer put to zero grad\n",
        "    optimizer.zero_grad()\n",
        "    #Making a prediction\n",
        "    y_pred = model(x)\n",
        "    #Calculating loss\n",
        "    loss = loss_fn(y_pred, y)\n",
        "    #Backward step\n",
        "    loss.backward()\n",
        "    #Optimizer step\n",
        "    optimizer.step()\n",
        "    #Getting the loss for that epoch\n",
        "    epoch_loss+=loss.item()\n",
        "    \n",
        "\n",
        "  #Calculating mean loss\n",
        "  epoch_loss = epoch_loss/len(loader)\n",
        "\n",
        "  return epoch_loss"
      ],
      "metadata": {
        "id": "Ad4jPzt6ACkY"
      },
      "execution_count": 73,
      "outputs": []
    },
    {
      "cell_type": "code",
      "source": [
        "##Specify the evaluate function\n",
        "def evaluate(model, loader, loss_fn, device):\n",
        "  epoch_loss = 0.0\n",
        "  model.eval()\n",
        "  with torch.no_grad():\n",
        "    for x,y in tqdm(loader):\n",
        "      x = x.to(device, dtype=torch.float32)\n",
        "      y = y.to(device, dtype=torch.float32)\n",
        "\n",
        "      y_pred = model(x)\n",
        "      loss = loss_fn(y_pred,y)\n",
        "\n",
        "      epoch_loss+=loss.item()\n",
        "\n",
        "  #Calculating mean loss\n",
        "  epoch_loss = epoch_loss/len(loader)\n",
        "  return epoch_loss"
      ],
      "metadata": {
        "id": "QP8uT9RJCTPv"
      },
      "execution_count": 74,
      "outputs": []
    },
    {
      "cell_type": "code",
      "source": [
        "##Training the model\n",
        "best_valid_loss = float(\"inf\")\n",
        "loss_store = []\n",
        "val_loss_store = []\n",
        "epoch_count = []\n",
        "\n",
        "for epoch in range(num_epochs):\n",
        "  start_time = time.time()\n",
        "  train_loss = train(model, train_loader, optimizer, loss_fn, device)\n",
        "  loss_store.append(train_loss)\n",
        "  valid_loss = evaluate(model, valid_loader, loss_fn, device)\n",
        "  val_loss_store.append(valid_loss)\n",
        "\n",
        "  #Saving the model\n",
        "  if valid_loss < best_valid_loss:\n",
        "    data_str = f\"Valid loss improved from {best_valid_loss:2.4f} to {valid_loss:4f}\"\n",
        "    print(data_str)\n",
        "\n",
        "    best_valid_loss = valid_loss\n",
        "    torch.save(model.state_dict(), checkpoint_path)\n",
        "\n",
        "  end_time = time.time()\n",
        "  epoch_mins, epoch_secs = epoch_time(start_time, end_time)\n",
        "\n",
        "  #Storing values\n",
        "  epoch_count.append(epoch)\n",
        "\n",
        "\n",
        "  data_str = f'Epoch: {epoch+1:02} | Epoch Time: {epoch_mins}m {epoch_secs}s\\n'\n",
        "  data_str += f'\\tTrain Loss: {train_loss:.3f}\\n'\n",
        "  data_str += f'\\t Val. Loss: {valid_loss:.3f}\\n'\n",
        "  print(data_str)"
      ],
      "metadata": {
        "colab": {
          "base_uri": "https://localhost:8080/"
        },
        "id": "8H_qe5u1_c0o",
        "outputId": "3b652647-62b4-4c9a-cce7-99ea8db4518d"
      },
      "execution_count": 75,
      "outputs": [
        {
          "output_type": "stream",
          "name": "stderr",
          "text": [
            "100%|██████████| 5/5 [00:07<00:00,  1.60s/it]\n",
            "100%|██████████| 5/5 [00:02<00:00,  1.70it/s]\n"
          ]
        },
        {
          "output_type": "stream",
          "name": "stdout",
          "text": [
            "Valid loss improved from inf to 1.491523\n",
            "Epoch: 01 | Epoch Time: 0m 11s\n",
            "\tTrain Loss: 1.372\n",
            "\t Val. Loss: 1.492\n",
            "\n"
          ]
        },
        {
          "output_type": "stream",
          "name": "stderr",
          "text": [
            "100%|██████████| 5/5 [00:08<00:00,  1.62s/it]\n",
            "100%|██████████| 5/5 [00:02<00:00,  1.70it/s]\n"
          ]
        },
        {
          "output_type": "stream",
          "name": "stdout",
          "text": [
            "Valid loss improved from 1.4915 to 1.482258\n",
            "Epoch: 02 | Epoch Time: 0m 11s\n",
            "\tTrain Loss: 1.282\n",
            "\t Val. Loss: 1.482\n",
            "\n"
          ]
        },
        {
          "output_type": "stream",
          "name": "stderr",
          "text": [
            "100%|██████████| 5/5 [00:07<00:00,  1.59s/it]\n",
            "100%|██████████| 5/5 [00:02<00:00,  1.74it/s]\n"
          ]
        },
        {
          "output_type": "stream",
          "name": "stdout",
          "text": [
            "Valid loss improved from 1.4823 to 1.469061\n",
            "Epoch: 03 | Epoch Time: 0m 11s\n",
            "\tTrain Loss: 1.204\n",
            "\t Val. Loss: 1.469\n",
            "\n"
          ]
        },
        {
          "output_type": "stream",
          "name": "stderr",
          "text": [
            "100%|██████████| 5/5 [00:07<00:00,  1.57s/it]\n",
            "100%|██████████| 5/5 [00:02<00:00,  1.74it/s]\n"
          ]
        },
        {
          "output_type": "stream",
          "name": "stdout",
          "text": [
            "Valid loss improved from 1.4691 to 1.440719\n",
            "Epoch: 04 | Epoch Time: 0m 11s\n",
            "\tTrain Loss: 1.145\n",
            "\t Val. Loss: 1.441\n",
            "\n"
          ]
        },
        {
          "output_type": "stream",
          "name": "stderr",
          "text": [
            "100%|██████████| 5/5 [00:07<00:00,  1.54s/it]\n",
            "100%|██████████| 5/5 [00:02<00:00,  1.77it/s]\n"
          ]
        },
        {
          "output_type": "stream",
          "name": "stdout",
          "text": [
            "Valid loss improved from 1.4407 to 1.414576\n",
            "Epoch: 05 | Epoch Time: 0m 10s\n",
            "\tTrain Loss: 1.094\n",
            "\t Val. Loss: 1.415\n",
            "\n"
          ]
        },
        {
          "output_type": "stream",
          "name": "stderr",
          "text": [
            "100%|██████████| 5/5 [00:07<00:00,  1.54s/it]\n",
            "100%|██████████| 5/5 [00:02<00:00,  1.78it/s]\n"
          ]
        },
        {
          "output_type": "stream",
          "name": "stdout",
          "text": [
            "Valid loss improved from 1.4146 to 1.393406\n",
            "Epoch: 06 | Epoch Time: 0m 10s\n",
            "\tTrain Loss: 1.061\n",
            "\t Val. Loss: 1.393\n",
            "\n"
          ]
        },
        {
          "output_type": "stream",
          "name": "stderr",
          "text": [
            "100%|██████████| 5/5 [00:07<00:00,  1.54s/it]\n",
            "100%|██████████| 5/5 [00:02<00:00,  1.76it/s]\n"
          ]
        },
        {
          "output_type": "stream",
          "name": "stdout",
          "text": [
            "Valid loss improved from 1.3934 to 1.373763\n",
            "Epoch: 07 | Epoch Time: 0m 10s\n",
            "\tTrain Loss: 1.035\n",
            "\t Val. Loss: 1.374\n",
            "\n"
          ]
        },
        {
          "output_type": "stream",
          "name": "stderr",
          "text": [
            "100%|██████████| 5/5 [00:07<00:00,  1.55s/it]\n",
            "100%|██████████| 5/5 [00:02<00:00,  1.75it/s]\n"
          ]
        },
        {
          "output_type": "stream",
          "name": "stdout",
          "text": [
            "Valid loss improved from 1.3738 to 1.344855\n",
            "Epoch: 08 | Epoch Time: 0m 10s\n",
            "\tTrain Loss: 1.015\n",
            "\t Val. Loss: 1.345\n",
            "\n"
          ]
        },
        {
          "output_type": "stream",
          "name": "stderr",
          "text": [
            "100%|██████████| 5/5 [00:07<00:00,  1.57s/it]\n",
            "100%|██████████| 5/5 [00:02<00:00,  1.71it/s]\n"
          ]
        },
        {
          "output_type": "stream",
          "name": "stdout",
          "text": [
            "Valid loss improved from 1.3449 to 1.263275\n",
            "Epoch: 09 | Epoch Time: 0m 11s\n",
            "\tTrain Loss: 1.002\n",
            "\t Val. Loss: 1.263\n",
            "\n"
          ]
        },
        {
          "output_type": "stream",
          "name": "stderr",
          "text": [
            "100%|██████████| 5/5 [00:07<00:00,  1.57s/it]\n",
            "100%|██████████| 5/5 [00:02<00:00,  1.71it/s]\n"
          ]
        },
        {
          "output_type": "stream",
          "name": "stdout",
          "text": [
            "Valid loss improved from 1.2633 to 1.171690\n",
            "Epoch: 10 | Epoch Time: 0m 11s\n",
            "\tTrain Loss: 0.992\n",
            "\t Val. Loss: 1.172\n",
            "\n"
          ]
        },
        {
          "output_type": "stream",
          "name": "stderr",
          "text": [
            "100%|██████████| 5/5 [00:07<00:00,  1.56s/it]\n",
            "100%|██████████| 5/5 [00:02<00:00,  1.73it/s]\n"
          ]
        },
        {
          "output_type": "stream",
          "name": "stdout",
          "text": [
            "Valid loss improved from 1.1717 to 1.115374\n",
            "Epoch: 11 | Epoch Time: 0m 11s\n",
            "\tTrain Loss: 0.980\n",
            "\t Val. Loss: 1.115\n",
            "\n"
          ]
        },
        {
          "output_type": "stream",
          "name": "stderr",
          "text": [
            "100%|██████████| 5/5 [00:07<00:00,  1.56s/it]\n",
            "100%|██████████| 5/5 [00:02<00:00,  1.74it/s]\n"
          ]
        },
        {
          "output_type": "stream",
          "name": "stdout",
          "text": [
            "Valid loss improved from 1.1154 to 1.050056\n",
            "Epoch: 12 | Epoch Time: 0m 10s\n",
            "\tTrain Loss: 0.968\n",
            "\t Val. Loss: 1.050\n",
            "\n"
          ]
        },
        {
          "output_type": "stream",
          "name": "stderr",
          "text": [
            "100%|██████████| 5/5 [00:07<00:00,  1.55s/it]\n",
            "100%|██████████| 5/5 [00:02<00:00,  1.75it/s]\n"
          ]
        },
        {
          "output_type": "stream",
          "name": "stdout",
          "text": [
            "Valid loss improved from 1.0501 to 1.000329\n",
            "Epoch: 13 | Epoch Time: 0m 10s\n",
            "\tTrain Loss: 0.958\n",
            "\t Val. Loss: 1.000\n",
            "\n"
          ]
        },
        {
          "output_type": "stream",
          "name": "stderr",
          "text": [
            "100%|██████████| 5/5 [00:07<00:00,  1.55s/it]\n",
            "100%|██████████| 5/5 [00:02<00:00,  1.76it/s]\n"
          ]
        },
        {
          "output_type": "stream",
          "name": "stdout",
          "text": [
            "Valid loss improved from 1.0003 to 0.962698\n",
            "Epoch: 14 | Epoch Time: 0m 10s\n",
            "\tTrain Loss: 0.949\n",
            "\t Val. Loss: 0.963\n",
            "\n"
          ]
        },
        {
          "output_type": "stream",
          "name": "stderr",
          "text": [
            "100%|██████████| 5/5 [00:07<00:00,  1.55s/it]\n",
            "100%|██████████| 5/5 [00:02<00:00,  1.75it/s]\n"
          ]
        },
        {
          "output_type": "stream",
          "name": "stdout",
          "text": [
            "Valid loss improved from 0.9627 to 0.947751\n",
            "Epoch: 15 | Epoch Time: 0m 10s\n",
            "\tTrain Loss: 0.939\n",
            "\t Val. Loss: 0.948\n",
            "\n"
          ]
        },
        {
          "output_type": "stream",
          "name": "stderr",
          "text": [
            "100%|██████████| 5/5 [00:07<00:00,  1.56s/it]\n",
            "100%|██████████| 5/5 [00:02<00:00,  1.73it/s]\n"
          ]
        },
        {
          "output_type": "stream",
          "name": "stdout",
          "text": [
            "Valid loss improved from 0.9478 to 0.937365\n",
            "Epoch: 16 | Epoch Time: 0m 10s\n",
            "\tTrain Loss: 0.931\n",
            "\t Val. Loss: 0.937\n",
            "\n"
          ]
        },
        {
          "output_type": "stream",
          "name": "stderr",
          "text": [
            "100%|██████████| 5/5 [00:07<00:00,  1.56s/it]\n",
            "100%|██████████| 5/5 [00:02<00:00,  1.75it/s]\n"
          ]
        },
        {
          "output_type": "stream",
          "name": "stdout",
          "text": [
            "Valid loss improved from 0.9374 to 0.928408\n",
            "Epoch: 17 | Epoch Time: 0m 10s\n",
            "\tTrain Loss: 0.921\n",
            "\t Val. Loss: 0.928\n",
            "\n"
          ]
        },
        {
          "output_type": "stream",
          "name": "stderr",
          "text": [
            "100%|██████████| 5/5 [00:07<00:00,  1.56s/it]\n",
            "100%|██████████| 5/5 [00:02<00:00,  1.74it/s]\n"
          ]
        },
        {
          "output_type": "stream",
          "name": "stdout",
          "text": [
            "Valid loss improved from 0.9284 to 0.911182\n",
            "Epoch: 18 | Epoch Time: 0m 11s\n",
            "\tTrain Loss: 0.917\n",
            "\t Val. Loss: 0.911\n",
            "\n"
          ]
        },
        {
          "output_type": "stream",
          "name": "stderr",
          "text": [
            "100%|██████████| 5/5 [00:07<00:00,  1.56s/it]\n",
            "100%|██████████| 5/5 [00:02<00:00,  1.73it/s]\n"
          ]
        },
        {
          "output_type": "stream",
          "name": "stdout",
          "text": [
            "Valid loss improved from 0.9112 to 0.904620\n",
            "Epoch: 19 | Epoch Time: 0m 10s\n",
            "\tTrain Loss: 0.909\n",
            "\t Val. Loss: 0.905\n",
            "\n"
          ]
        },
        {
          "output_type": "stream",
          "name": "stderr",
          "text": [
            "100%|██████████| 5/5 [00:07<00:00,  1.56s/it]\n",
            "100%|██████████| 5/5 [00:02<00:00,  1.75it/s]\n"
          ]
        },
        {
          "output_type": "stream",
          "name": "stdout",
          "text": [
            "Valid loss improved from 0.9046 to 0.902470\n",
            "Epoch: 20 | Epoch Time: 0m 10s\n",
            "\tTrain Loss: 0.900\n",
            "\t Val. Loss: 0.902\n",
            "\n"
          ]
        },
        {
          "output_type": "stream",
          "name": "stderr",
          "text": [
            "100%|██████████| 5/5 [00:07<00:00,  1.55s/it]\n",
            "100%|██████████| 5/5 [00:02<00:00,  1.74it/s]\n"
          ]
        },
        {
          "output_type": "stream",
          "name": "stdout",
          "text": [
            "Valid loss improved from 0.9025 to 0.901396\n",
            "Epoch: 21 | Epoch Time: 0m 10s\n",
            "\tTrain Loss: 0.891\n",
            "\t Val. Loss: 0.901\n",
            "\n"
          ]
        },
        {
          "output_type": "stream",
          "name": "stderr",
          "text": [
            "100%|██████████| 5/5 [00:07<00:00,  1.56s/it]\n",
            "100%|██████████| 5/5 [00:02<00:00,  1.74it/s]\n"
          ]
        },
        {
          "output_type": "stream",
          "name": "stdout",
          "text": [
            "Valid loss improved from 0.9014 to 0.894348\n",
            "Epoch: 22 | Epoch Time: 0m 10s\n",
            "\tTrain Loss: 0.887\n",
            "\t Val. Loss: 0.894\n",
            "\n"
          ]
        },
        {
          "output_type": "stream",
          "name": "stderr",
          "text": [
            "100%|██████████| 5/5 [00:07<00:00,  1.56s/it]\n",
            "100%|██████████| 5/5 [00:02<00:00,  1.75it/s]\n"
          ]
        },
        {
          "output_type": "stream",
          "name": "stdout",
          "text": [
            "Valid loss improved from 0.8943 to 0.893287\n",
            "Epoch: 23 | Epoch Time: 0m 10s\n",
            "\tTrain Loss: 0.881\n",
            "\t Val. Loss: 0.893\n",
            "\n"
          ]
        },
        {
          "output_type": "stream",
          "name": "stderr",
          "text": [
            "100%|██████████| 5/5 [00:07<00:00,  1.55s/it]\n",
            "100%|██████████| 5/5 [00:02<00:00,  1.76it/s]\n"
          ]
        },
        {
          "output_type": "stream",
          "name": "stdout",
          "text": [
            "Valid loss improved from 0.8933 to 0.881828\n",
            "Epoch: 24 | Epoch Time: 0m 10s\n",
            "\tTrain Loss: 0.872\n",
            "\t Val. Loss: 0.882\n",
            "\n"
          ]
        },
        {
          "output_type": "stream",
          "name": "stderr",
          "text": [
            "100%|██████████| 5/5 [00:07<00:00,  1.55s/it]\n",
            "100%|██████████| 5/5 [00:02<00:00,  1.75it/s]\n"
          ]
        },
        {
          "output_type": "stream",
          "name": "stdout",
          "text": [
            "Valid loss improved from 0.8818 to 0.877330\n",
            "Epoch: 25 | Epoch Time: 0m 10s\n",
            "\tTrain Loss: 0.867\n",
            "\t Val. Loss: 0.877\n",
            "\n"
          ]
        },
        {
          "output_type": "stream",
          "name": "stderr",
          "text": [
            "100%|██████████| 5/5 [00:07<00:00,  1.56s/it]\n",
            "100%|██████████| 5/5 [00:02<00:00,  1.75it/s]\n"
          ]
        },
        {
          "output_type": "stream",
          "name": "stdout",
          "text": [
            "Valid loss improved from 0.8773 to 0.869765\n",
            "Epoch: 26 | Epoch Time: 0m 10s\n",
            "\tTrain Loss: 0.859\n",
            "\t Val. Loss: 0.870\n",
            "\n"
          ]
        },
        {
          "output_type": "stream",
          "name": "stderr",
          "text": [
            "100%|██████████| 5/5 [00:07<00:00,  1.55s/it]\n",
            "100%|██████████| 5/5 [00:02<00:00,  1.75it/s]\n"
          ]
        },
        {
          "output_type": "stream",
          "name": "stdout",
          "text": [
            "Valid loss improved from 0.8698 to 0.869228\n",
            "Epoch: 27 | Epoch Time: 0m 10s\n",
            "\tTrain Loss: 0.854\n",
            "\t Val. Loss: 0.869\n",
            "\n"
          ]
        },
        {
          "output_type": "stream",
          "name": "stderr",
          "text": [
            "100%|██████████| 5/5 [00:07<00:00,  1.56s/it]\n",
            "100%|██████████| 5/5 [00:02<00:00,  1.72it/s]\n"
          ]
        },
        {
          "output_type": "stream",
          "name": "stdout",
          "text": [
            "Valid loss improved from 0.8692 to 0.860227\n",
            "Epoch: 28 | Epoch Time: 0m 11s\n",
            "\tTrain Loss: 0.850\n",
            "\t Val. Loss: 0.860\n",
            "\n"
          ]
        },
        {
          "output_type": "stream",
          "name": "stderr",
          "text": [
            "100%|██████████| 5/5 [00:07<00:00,  1.56s/it]\n",
            "100%|██████████| 5/5 [00:02<00:00,  1.74it/s]\n"
          ]
        },
        {
          "output_type": "stream",
          "name": "stdout",
          "text": [
            "Valid loss improved from 0.8602 to 0.848246\n",
            "Epoch: 29 | Epoch Time: 0m 10s\n",
            "\tTrain Loss: 0.842\n",
            "\t Val. Loss: 0.848\n",
            "\n"
          ]
        },
        {
          "output_type": "stream",
          "name": "stderr",
          "text": [
            "100%|██████████| 5/5 [00:07<00:00,  1.55s/it]\n",
            "100%|██████████| 5/5 [00:02<00:00,  1.74it/s]\n"
          ]
        },
        {
          "output_type": "stream",
          "name": "stdout",
          "text": [
            "Valid loss improved from 0.8482 to 0.846295\n",
            "Epoch: 30 | Epoch Time: 0m 10s\n",
            "\tTrain Loss: 0.833\n",
            "\t Val. Loss: 0.846\n",
            "\n"
          ]
        },
        {
          "output_type": "stream",
          "name": "stderr",
          "text": [
            "100%|██████████| 5/5 [00:07<00:00,  1.56s/it]\n",
            "100%|██████████| 5/5 [00:02<00:00,  1.75it/s]\n"
          ]
        },
        {
          "output_type": "stream",
          "name": "stdout",
          "text": [
            "Valid loss improved from 0.8463 to 0.846117\n",
            "Epoch: 31 | Epoch Time: 0m 10s\n",
            "\tTrain Loss: 0.825\n",
            "\t Val. Loss: 0.846\n",
            "\n"
          ]
        },
        {
          "output_type": "stream",
          "name": "stderr",
          "text": [
            "100%|██████████| 5/5 [00:07<00:00,  1.56s/it]\n",
            "100%|██████████| 5/5 [00:02<00:00,  1.74it/s]\n"
          ]
        },
        {
          "output_type": "stream",
          "name": "stdout",
          "text": [
            "Epoch: 32 | Epoch Time: 0m 10s\n",
            "\tTrain Loss: 0.818\n",
            "\t Val. Loss: 0.847\n",
            "\n"
          ]
        },
        {
          "output_type": "stream",
          "name": "stderr",
          "text": [
            "100%|██████████| 5/5 [00:07<00:00,  1.56s/it]\n",
            "100%|██████████| 5/5 [00:02<00:00,  1.75it/s]\n"
          ]
        },
        {
          "output_type": "stream",
          "name": "stdout",
          "text": [
            "Valid loss improved from 0.8461 to 0.838927\n",
            "Epoch: 33 | Epoch Time: 0m 10s\n",
            "\tTrain Loss: 0.809\n",
            "\t Val. Loss: 0.839\n",
            "\n"
          ]
        },
        {
          "output_type": "stream",
          "name": "stderr",
          "text": [
            "100%|██████████| 5/5 [00:07<00:00,  1.55s/it]\n",
            "100%|██████████| 5/5 [00:02<00:00,  1.75it/s]\n"
          ]
        },
        {
          "output_type": "stream",
          "name": "stdout",
          "text": [
            "Valid loss improved from 0.8389 to 0.837139\n",
            "Epoch: 34 | Epoch Time: 0m 10s\n",
            "\tTrain Loss: 0.805\n",
            "\t Val. Loss: 0.837\n",
            "\n"
          ]
        },
        {
          "output_type": "stream",
          "name": "stderr",
          "text": [
            "100%|██████████| 5/5 [00:07<00:00,  1.56s/it]\n",
            "100%|██████████| 5/5 [00:02<00:00,  1.73it/s]\n"
          ]
        },
        {
          "output_type": "stream",
          "name": "stdout",
          "text": [
            "Valid loss improved from 0.8371 to 0.832037\n",
            "Epoch: 35 | Epoch Time: 0m 10s\n",
            "\tTrain Loss: 0.796\n",
            "\t Val. Loss: 0.832\n",
            "\n"
          ]
        },
        {
          "output_type": "stream",
          "name": "stderr",
          "text": [
            "100%|██████████| 5/5 [00:07<00:00,  1.55s/it]\n",
            "100%|██████████| 5/5 [00:02<00:00,  1.75it/s]\n"
          ]
        },
        {
          "output_type": "stream",
          "name": "stdout",
          "text": [
            "Valid loss improved from 0.8320 to 0.821895\n",
            "Epoch: 36 | Epoch Time: 0m 10s\n",
            "\tTrain Loss: 0.790\n",
            "\t Val. Loss: 0.822\n",
            "\n"
          ]
        },
        {
          "output_type": "stream",
          "name": "stderr",
          "text": [
            "100%|██████████| 5/5 [00:07<00:00,  1.55s/it]\n",
            "100%|██████████| 5/5 [00:02<00:00,  1.75it/s]\n"
          ]
        },
        {
          "output_type": "stream",
          "name": "stdout",
          "text": [
            "Epoch: 37 | Epoch Time: 0m 10s\n",
            "\tTrain Loss: 0.786\n",
            "\t Val. Loss: 0.830\n",
            "\n"
          ]
        },
        {
          "output_type": "stream",
          "name": "stderr",
          "text": [
            "100%|██████████| 5/5 [00:07<00:00,  1.56s/it]\n",
            "100%|██████████| 5/5 [00:02<00:00,  1.74it/s]\n"
          ]
        },
        {
          "output_type": "stream",
          "name": "stdout",
          "text": [
            "Valid loss improved from 0.8219 to 0.813548\n",
            "Epoch: 38 | Epoch Time: 0m 10s\n",
            "\tTrain Loss: 0.779\n",
            "\t Val. Loss: 0.814\n",
            "\n"
          ]
        },
        {
          "output_type": "stream",
          "name": "stderr",
          "text": [
            "100%|██████████| 5/5 [00:07<00:00,  1.56s/it]\n",
            "100%|██████████| 5/5 [00:02<00:00,  1.75it/s]\n"
          ]
        },
        {
          "output_type": "stream",
          "name": "stdout",
          "text": [
            "Valid loss improved from 0.8135 to 0.808575\n",
            "Epoch: 39 | Epoch Time: 0m 10s\n",
            "\tTrain Loss: 0.771\n",
            "\t Val. Loss: 0.809\n",
            "\n"
          ]
        },
        {
          "output_type": "stream",
          "name": "stderr",
          "text": [
            "100%|██████████| 5/5 [00:07<00:00,  1.56s/it]\n",
            "100%|██████████| 5/5 [00:02<00:00,  1.73it/s]\n"
          ]
        },
        {
          "output_type": "stream",
          "name": "stdout",
          "text": [
            "Valid loss improved from 0.8086 to 0.802815\n",
            "Epoch: 40 | Epoch Time: 0m 10s\n",
            "\tTrain Loss: 0.763\n",
            "\t Val. Loss: 0.803\n",
            "\n"
          ]
        },
        {
          "output_type": "stream",
          "name": "stderr",
          "text": [
            "100%|██████████| 5/5 [00:07<00:00,  1.56s/it]\n",
            "100%|██████████| 5/5 [00:02<00:00,  1.74it/s]\n"
          ]
        },
        {
          "output_type": "stream",
          "name": "stdout",
          "text": [
            "Epoch: 41 | Epoch Time: 0m 10s\n",
            "\tTrain Loss: 0.757\n",
            "\t Val. Loss: 0.804\n",
            "\n"
          ]
        },
        {
          "output_type": "stream",
          "name": "stderr",
          "text": [
            "100%|██████████| 5/5 [00:07<00:00,  1.56s/it]\n",
            "100%|██████████| 5/5 [00:02<00:00,  1.74it/s]\n"
          ]
        },
        {
          "output_type": "stream",
          "name": "stdout",
          "text": [
            "Valid loss improved from 0.8028 to 0.798701\n",
            "Epoch: 42 | Epoch Time: 0m 10s\n",
            "\tTrain Loss: 0.751\n",
            "\t Val. Loss: 0.799\n",
            "\n"
          ]
        },
        {
          "output_type": "stream",
          "name": "stderr",
          "text": [
            "100%|██████████| 5/5 [00:07<00:00,  1.56s/it]\n",
            "100%|██████████| 5/5 [00:02<00:00,  1.75it/s]\n"
          ]
        },
        {
          "output_type": "stream",
          "name": "stdout",
          "text": [
            "Epoch: 43 | Epoch Time: 0m 10s\n",
            "\tTrain Loss: 0.742\n",
            "\t Val. Loss: 0.799\n",
            "\n"
          ]
        },
        {
          "output_type": "stream",
          "name": "stderr",
          "text": [
            "100%|██████████| 5/5 [00:07<00:00,  1.55s/it]\n",
            "100%|██████████| 5/5 [00:02<00:00,  1.74it/s]\n"
          ]
        },
        {
          "output_type": "stream",
          "name": "stdout",
          "text": [
            "Valid loss improved from 0.7987 to 0.791876\n",
            "Epoch: 44 | Epoch Time: 0m 10s\n",
            "\tTrain Loss: 0.737\n",
            "\t Val. Loss: 0.792\n",
            "\n"
          ]
        },
        {
          "output_type": "stream",
          "name": "stderr",
          "text": [
            "100%|██████████| 5/5 [00:07<00:00,  1.55s/it]\n",
            "100%|██████████| 5/5 [00:02<00:00,  1.75it/s]\n"
          ]
        },
        {
          "output_type": "stream",
          "name": "stdout",
          "text": [
            "Valid loss improved from 0.7919 to 0.790247\n",
            "Epoch: 45 | Epoch Time: 0m 10s\n",
            "\tTrain Loss: 0.731\n",
            "\t Val. Loss: 0.790\n",
            "\n"
          ]
        },
        {
          "output_type": "stream",
          "name": "stderr",
          "text": [
            "100%|██████████| 5/5 [00:07<00:00,  1.56s/it]\n",
            "100%|██████████| 5/5 [00:02<00:00,  1.74it/s]\n"
          ]
        },
        {
          "output_type": "stream",
          "name": "stdout",
          "text": [
            "Valid loss improved from 0.7902 to 0.779449\n",
            "Epoch: 46 | Epoch Time: 0m 10s\n",
            "\tTrain Loss: 0.724\n",
            "\t Val. Loss: 0.779\n",
            "\n"
          ]
        },
        {
          "output_type": "stream",
          "name": "stderr",
          "text": [
            "100%|██████████| 5/5 [00:07<00:00,  1.56s/it]\n",
            "100%|██████████| 5/5 [00:02<00:00,  1.75it/s]\n"
          ]
        },
        {
          "output_type": "stream",
          "name": "stdout",
          "text": [
            "Valid loss improved from 0.7794 to 0.778022\n",
            "Epoch: 47 | Epoch Time: 0m 10s\n",
            "\tTrain Loss: 0.718\n",
            "\t Val. Loss: 0.778\n",
            "\n"
          ]
        },
        {
          "output_type": "stream",
          "name": "stderr",
          "text": [
            "100%|██████████| 5/5 [00:07<00:00,  1.55s/it]\n",
            "100%|██████████| 5/5 [00:02<00:00,  1.76it/s]\n"
          ]
        },
        {
          "output_type": "stream",
          "name": "stdout",
          "text": [
            "Valid loss improved from 0.7780 to 0.774584\n",
            "Epoch: 48 | Epoch Time: 0m 10s\n",
            "\tTrain Loss: 0.712\n",
            "\t Val. Loss: 0.775\n",
            "\n"
          ]
        },
        {
          "output_type": "stream",
          "name": "stderr",
          "text": [
            "100%|██████████| 5/5 [00:07<00:00,  1.55s/it]\n",
            "100%|██████████| 5/5 [00:02<00:00,  1.73it/s]\n"
          ]
        },
        {
          "output_type": "stream",
          "name": "stdout",
          "text": [
            "Epoch: 49 | Epoch Time: 0m 10s\n",
            "\tTrain Loss: 0.710\n",
            "\t Val. Loss: 0.776\n",
            "\n"
          ]
        },
        {
          "output_type": "stream",
          "name": "stderr",
          "text": [
            "100%|██████████| 5/5 [00:07<00:00,  1.56s/it]\n",
            "100%|██████████| 5/5 [00:02<00:00,  1.74it/s]\n"
          ]
        },
        {
          "output_type": "stream",
          "name": "stdout",
          "text": [
            "Valid loss improved from 0.7746 to 0.771057\n",
            "Epoch: 50 | Epoch Time: 0m 11s\n",
            "\tTrain Loss: 0.703\n",
            "\t Val. Loss: 0.771\n",
            "\n"
          ]
        },
        {
          "output_type": "stream",
          "name": "stderr",
          "text": [
            "100%|██████████| 5/5 [00:07<00:00,  1.57s/it]\n",
            "100%|██████████| 5/5 [00:02<00:00,  1.75it/s]\n"
          ]
        },
        {
          "output_type": "stream",
          "name": "stdout",
          "text": [
            "Valid loss improved from 0.7711 to 0.763641\n",
            "Epoch: 51 | Epoch Time: 0m 11s\n",
            "\tTrain Loss: 0.699\n",
            "\t Val. Loss: 0.764\n",
            "\n"
          ]
        },
        {
          "output_type": "stream",
          "name": "stderr",
          "text": [
            "100%|██████████| 5/5 [00:07<00:00,  1.56s/it]\n",
            "100%|██████████| 5/5 [00:02<00:00,  1.73it/s]\n"
          ]
        },
        {
          "output_type": "stream",
          "name": "stdout",
          "text": [
            "Valid loss improved from 0.7636 to 0.763349\n",
            "Epoch: 52 | Epoch Time: 0m 11s\n",
            "\tTrain Loss: 0.693\n",
            "\t Val. Loss: 0.763\n",
            "\n"
          ]
        },
        {
          "output_type": "stream",
          "name": "stderr",
          "text": [
            "100%|██████████| 5/5 [00:07<00:00,  1.56s/it]\n",
            "100%|██████████| 5/5 [00:02<00:00,  1.75it/s]\n"
          ]
        },
        {
          "output_type": "stream",
          "name": "stdout",
          "text": [
            "Valid loss improved from 0.7633 to 0.763138\n",
            "Epoch: 53 | Epoch Time: 0m 10s\n",
            "\tTrain Loss: 0.687\n",
            "\t Val. Loss: 0.763\n",
            "\n"
          ]
        },
        {
          "output_type": "stream",
          "name": "stderr",
          "text": [
            "100%|██████████| 5/5 [00:07<00:00,  1.56s/it]\n",
            "100%|██████████| 5/5 [00:02<00:00,  1.76it/s]\n"
          ]
        },
        {
          "output_type": "stream",
          "name": "stdout",
          "text": [
            "Valid loss improved from 0.7631 to 0.752709\n",
            "Epoch: 54 | Epoch Time: 0m 10s\n",
            "\tTrain Loss: 0.680\n",
            "\t Val. Loss: 0.753\n",
            "\n"
          ]
        },
        {
          "output_type": "stream",
          "name": "stderr",
          "text": [
            "100%|██████████| 5/5 [00:07<00:00,  1.55s/it]\n",
            "100%|██████████| 5/5 [00:02<00:00,  1.76it/s]\n"
          ]
        },
        {
          "output_type": "stream",
          "name": "stdout",
          "text": [
            "Valid loss improved from 0.7527 to 0.752598\n",
            "Epoch: 55 | Epoch Time: 0m 10s\n",
            "\tTrain Loss: 0.676\n",
            "\t Val. Loss: 0.753\n",
            "\n"
          ]
        },
        {
          "output_type": "stream",
          "name": "stderr",
          "text": [
            "100%|██████████| 5/5 [00:07<00:00,  1.55s/it]\n",
            "100%|██████████| 5/5 [00:02<00:00,  1.76it/s]\n"
          ]
        },
        {
          "output_type": "stream",
          "name": "stdout",
          "text": [
            "Epoch: 56 | Epoch Time: 0m 10s\n",
            "\tTrain Loss: 0.672\n",
            "\t Val. Loss: 0.753\n",
            "\n"
          ]
        },
        {
          "output_type": "stream",
          "name": "stderr",
          "text": [
            "100%|██████████| 5/5 [00:07<00:00,  1.55s/it]\n",
            "100%|██████████| 5/5 [00:02<00:00,  1.74it/s]\n"
          ]
        },
        {
          "output_type": "stream",
          "name": "stdout",
          "text": [
            "Valid loss improved from 0.7526 to 0.741258\n",
            "Epoch: 57 | Epoch Time: 0m 10s\n",
            "\tTrain Loss: 0.664\n",
            "\t Val. Loss: 0.741\n",
            "\n"
          ]
        },
        {
          "output_type": "stream",
          "name": "stderr",
          "text": [
            "100%|██████████| 5/5 [00:07<00:00,  1.55s/it]\n",
            "100%|██████████| 5/5 [00:02<00:00,  1.75it/s]\n"
          ]
        },
        {
          "output_type": "stream",
          "name": "stdout",
          "text": [
            "Valid loss improved from 0.7413 to 0.739644\n",
            "Epoch: 58 | Epoch Time: 0m 10s\n",
            "\tTrain Loss: 0.659\n",
            "\t Val. Loss: 0.740\n",
            "\n"
          ]
        },
        {
          "output_type": "stream",
          "name": "stderr",
          "text": [
            "100%|██████████| 5/5 [00:07<00:00,  1.56s/it]\n",
            "100%|██████████| 5/5 [00:02<00:00,  1.73it/s]\n"
          ]
        },
        {
          "output_type": "stream",
          "name": "stdout",
          "text": [
            "Valid loss improved from 0.7396 to 0.739258\n",
            "Epoch: 59 | Epoch Time: 0m 10s\n",
            "\tTrain Loss: 0.655\n",
            "\t Val. Loss: 0.739\n",
            "\n"
          ]
        },
        {
          "output_type": "stream",
          "name": "stderr",
          "text": [
            "100%|██████████| 5/5 [00:07<00:00,  1.56s/it]\n",
            "100%|██████████| 5/5 [00:02<00:00,  1.74it/s]\n"
          ]
        },
        {
          "output_type": "stream",
          "name": "stdout",
          "text": [
            "Valid loss improved from 0.7393 to 0.736632\n",
            "Epoch: 60 | Epoch Time: 0m 11s\n",
            "\tTrain Loss: 0.650\n",
            "\t Val. Loss: 0.737\n",
            "\n"
          ]
        },
        {
          "output_type": "stream",
          "name": "stderr",
          "text": [
            "100%|██████████| 5/5 [00:07<00:00,  1.57s/it]\n",
            "100%|██████████| 5/5 [00:02<00:00,  1.74it/s]\n"
          ]
        },
        {
          "output_type": "stream",
          "name": "stdout",
          "text": [
            "Valid loss improved from 0.7366 to 0.729049\n",
            "Epoch: 61 | Epoch Time: 0m 11s\n",
            "\tTrain Loss: 0.645\n",
            "\t Val. Loss: 0.729\n",
            "\n"
          ]
        },
        {
          "output_type": "stream",
          "name": "stderr",
          "text": [
            "100%|██████████| 5/5 [00:07<00:00,  1.56s/it]\n",
            "100%|██████████| 5/5 [00:02<00:00,  1.75it/s]\n"
          ]
        },
        {
          "output_type": "stream",
          "name": "stdout",
          "text": [
            "Valid loss improved from 0.7290 to 0.722724\n",
            "Epoch: 62 | Epoch Time: 0m 10s\n",
            "\tTrain Loss: 0.641\n",
            "\t Val. Loss: 0.723\n",
            "\n"
          ]
        },
        {
          "output_type": "stream",
          "name": "stderr",
          "text": [
            "100%|██████████| 5/5 [00:07<00:00,  1.55s/it]\n",
            "100%|██████████| 5/5 [00:02<00:00,  1.73it/s]\n"
          ]
        },
        {
          "output_type": "stream",
          "name": "stdout",
          "text": [
            "Epoch: 63 | Epoch Time: 0m 10s\n",
            "\tTrain Loss: 0.638\n",
            "\t Val. Loss: 0.726\n",
            "\n"
          ]
        },
        {
          "output_type": "stream",
          "name": "stderr",
          "text": [
            "100%|██████████| 5/5 [00:07<00:00,  1.56s/it]\n",
            "100%|██████████| 5/5 [00:02<00:00,  1.76it/s]\n"
          ]
        },
        {
          "output_type": "stream",
          "name": "stdout",
          "text": [
            "Epoch: 64 | Epoch Time: 0m 10s\n",
            "\tTrain Loss: 0.633\n",
            "\t Val. Loss: 0.728\n",
            "\n"
          ]
        },
        {
          "output_type": "stream",
          "name": "stderr",
          "text": [
            "100%|██████████| 5/5 [00:07<00:00,  1.55s/it]\n",
            "100%|██████████| 5/5 [00:02<00:00,  1.75it/s]\n"
          ]
        },
        {
          "output_type": "stream",
          "name": "stdout",
          "text": [
            "Valid loss improved from 0.7227 to 0.716338\n",
            "Epoch: 65 | Epoch Time: 0m 10s\n",
            "\tTrain Loss: 0.628\n",
            "\t Val. Loss: 0.716\n",
            "\n"
          ]
        },
        {
          "output_type": "stream",
          "name": "stderr",
          "text": [
            "100%|██████████| 5/5 [00:07<00:00,  1.56s/it]\n",
            "100%|██████████| 5/5 [00:02<00:00,  1.74it/s]\n"
          ]
        },
        {
          "output_type": "stream",
          "name": "stdout",
          "text": [
            "Epoch: 66 | Epoch Time: 0m 10s\n",
            "\tTrain Loss: 0.623\n",
            "\t Val. Loss: 0.719\n",
            "\n"
          ]
        },
        {
          "output_type": "stream",
          "name": "stderr",
          "text": [
            "100%|██████████| 5/5 [00:07<00:00,  1.55s/it]\n",
            "100%|██████████| 5/5 [00:02<00:00,  1.75it/s]\n"
          ]
        },
        {
          "output_type": "stream",
          "name": "stdout",
          "text": [
            "Valid loss improved from 0.7163 to 0.710720\n",
            "Epoch: 67 | Epoch Time: 0m 10s\n",
            "\tTrain Loss: 0.618\n",
            "\t Val. Loss: 0.711\n",
            "\n"
          ]
        },
        {
          "output_type": "stream",
          "name": "stderr",
          "text": [
            "100%|██████████| 5/5 [00:07<00:00,  1.55s/it]\n",
            "100%|██████████| 5/5 [00:02<00:00,  1.75it/s]\n"
          ]
        },
        {
          "output_type": "stream",
          "name": "stdout",
          "text": [
            "Valid loss improved from 0.7107 to 0.709502\n",
            "Epoch: 68 | Epoch Time: 0m 10s\n",
            "\tTrain Loss: 0.613\n",
            "\t Val. Loss: 0.710\n",
            "\n"
          ]
        },
        {
          "output_type": "stream",
          "name": "stderr",
          "text": [
            "100%|██████████| 5/5 [00:07<00:00,  1.56s/it]\n",
            "100%|██████████| 5/5 [00:02<00:00,  1.74it/s]\n"
          ]
        },
        {
          "output_type": "stream",
          "name": "stdout",
          "text": [
            "Valid loss improved from 0.7095 to 0.701563\n",
            "Epoch: 69 | Epoch Time: 0m 11s\n",
            "\tTrain Loss: 0.608\n",
            "\t Val. Loss: 0.702\n",
            "\n"
          ]
        },
        {
          "output_type": "stream",
          "name": "stderr",
          "text": [
            "100%|██████████| 5/5 [00:07<00:00,  1.56s/it]\n",
            "100%|██████████| 5/5 [00:02<00:00,  1.75it/s]\n"
          ]
        },
        {
          "output_type": "stream",
          "name": "stdout",
          "text": [
            "Valid loss improved from 0.7016 to 0.699453\n",
            "Epoch: 70 | Epoch Time: 0m 10s\n",
            "\tTrain Loss: 0.602\n",
            "\t Val. Loss: 0.699\n",
            "\n"
          ]
        },
        {
          "output_type": "stream",
          "name": "stderr",
          "text": [
            "100%|██████████| 5/5 [00:07<00:00,  1.55s/it]\n",
            "100%|██████████| 5/5 [00:02<00:00,  1.74it/s]\n"
          ]
        },
        {
          "output_type": "stream",
          "name": "stdout",
          "text": [
            "Valid loss improved from 0.6995 to 0.699105\n",
            "Epoch: 71 | Epoch Time: 0m 10s\n",
            "\tTrain Loss: 0.598\n",
            "\t Val. Loss: 0.699\n",
            "\n"
          ]
        },
        {
          "output_type": "stream",
          "name": "stderr",
          "text": [
            "100%|██████████| 5/5 [00:07<00:00,  1.56s/it]\n",
            "100%|██████████| 5/5 [00:02<00:00,  1.74it/s]\n"
          ]
        },
        {
          "output_type": "stream",
          "name": "stdout",
          "text": [
            "Valid loss improved from 0.6991 to 0.688523\n",
            "Epoch: 72 | Epoch Time: 0m 10s\n",
            "\tTrain Loss: 0.593\n",
            "\t Val. Loss: 0.689\n",
            "\n"
          ]
        },
        {
          "output_type": "stream",
          "name": "stderr",
          "text": [
            "100%|██████████| 5/5 [00:07<00:00,  1.56s/it]\n",
            "100%|██████████| 5/5 [00:02<00:00,  1.74it/s]\n"
          ]
        },
        {
          "output_type": "stream",
          "name": "stdout",
          "text": [
            "Epoch: 73 | Epoch Time: 0m 10s\n",
            "\tTrain Loss: 0.590\n",
            "\t Val. Loss: 0.697\n",
            "\n"
          ]
        },
        {
          "output_type": "stream",
          "name": "stderr",
          "text": [
            "100%|██████████| 5/5 [00:07<00:00,  1.56s/it]\n",
            "100%|██████████| 5/5 [00:02<00:00,  1.74it/s]\n"
          ]
        },
        {
          "output_type": "stream",
          "name": "stdout",
          "text": [
            "Valid loss improved from 0.6885 to 0.686772\n",
            "Epoch: 74 | Epoch Time: 0m 10s\n",
            "\tTrain Loss: 0.585\n",
            "\t Val. Loss: 0.687\n",
            "\n"
          ]
        },
        {
          "output_type": "stream",
          "name": "stderr",
          "text": [
            "100%|██████████| 5/5 [00:07<00:00,  1.56s/it]\n",
            "100%|██████████| 5/5 [00:02<00:00,  1.73it/s]\n"
          ]
        },
        {
          "output_type": "stream",
          "name": "stdout",
          "text": [
            "Valid loss improved from 0.6868 to 0.683151\n",
            "Epoch: 75 | Epoch Time: 0m 11s\n",
            "\tTrain Loss: 0.580\n",
            "\t Val. Loss: 0.683\n",
            "\n"
          ]
        },
        {
          "output_type": "stream",
          "name": "stderr",
          "text": [
            "100%|██████████| 5/5 [00:07<00:00,  1.56s/it]\n",
            "100%|██████████| 5/5 [00:02<00:00,  1.74it/s]\n"
          ]
        },
        {
          "output_type": "stream",
          "name": "stdout",
          "text": [
            "Valid loss improved from 0.6832 to 0.678269\n",
            "Epoch: 76 | Epoch Time: 0m 10s\n",
            "\tTrain Loss: 0.575\n",
            "\t Val. Loss: 0.678\n",
            "\n"
          ]
        },
        {
          "output_type": "stream",
          "name": "stderr",
          "text": [
            "100%|██████████| 5/5 [00:07<00:00,  1.55s/it]\n",
            "100%|██████████| 5/5 [00:02<00:00,  1.74it/s]\n"
          ]
        },
        {
          "output_type": "stream",
          "name": "stdout",
          "text": [
            "Epoch: 77 | Epoch Time: 0m 10s\n",
            "\tTrain Loss: 0.572\n",
            "\t Val. Loss: 0.680\n",
            "\n"
          ]
        },
        {
          "output_type": "stream",
          "name": "stderr",
          "text": [
            "100%|██████████| 5/5 [00:07<00:00,  1.55s/it]\n",
            "100%|██████████| 5/5 [00:02<00:00,  1.73it/s]\n"
          ]
        },
        {
          "output_type": "stream",
          "name": "stdout",
          "text": [
            "Epoch: 78 | Epoch Time: 0m 10s\n",
            "\tTrain Loss: 0.568\n",
            "\t Val. Loss: 0.678\n",
            "\n"
          ]
        },
        {
          "output_type": "stream",
          "name": "stderr",
          "text": [
            "100%|██████████| 5/5 [00:07<00:00,  1.56s/it]\n",
            "100%|██████████| 5/5 [00:02<00:00,  1.75it/s]\n"
          ]
        },
        {
          "output_type": "stream",
          "name": "stdout",
          "text": [
            "Valid loss improved from 0.6783 to 0.674505\n",
            "Epoch: 79 | Epoch Time: 0m 10s\n",
            "\tTrain Loss: 0.564\n",
            "\t Val. Loss: 0.675\n",
            "\n"
          ]
        },
        {
          "output_type": "stream",
          "name": "stderr",
          "text": [
            "100%|██████████| 5/5 [00:07<00:00,  1.56s/it]\n",
            "100%|██████████| 5/5 [00:02<00:00,  1.74it/s]\n"
          ]
        },
        {
          "output_type": "stream",
          "name": "stdout",
          "text": [
            "Valid loss improved from 0.6745 to 0.674443\n",
            "Epoch: 80 | Epoch Time: 0m 10s\n",
            "\tTrain Loss: 0.562\n",
            "\t Val. Loss: 0.674\n",
            "\n"
          ]
        },
        {
          "output_type": "stream",
          "name": "stderr",
          "text": [
            "100%|██████████| 5/5 [00:07<00:00,  1.55s/it]\n",
            "100%|██████████| 5/5 [00:02<00:00,  1.75it/s]\n"
          ]
        },
        {
          "output_type": "stream",
          "name": "stdout",
          "text": [
            "Valid loss improved from 0.6744 to 0.674156\n",
            "Epoch: 81 | Epoch Time: 0m 10s\n",
            "\tTrain Loss: 0.557\n",
            "\t Val. Loss: 0.674\n",
            "\n"
          ]
        },
        {
          "output_type": "stream",
          "name": "stderr",
          "text": [
            "100%|██████████| 5/5 [00:07<00:00,  1.56s/it]\n",
            "100%|██████████| 5/5 [00:02<00:00,  1.75it/s]\n"
          ]
        },
        {
          "output_type": "stream",
          "name": "stdout",
          "text": [
            "Valid loss improved from 0.6742 to 0.666891\n",
            "Epoch: 82 | Epoch Time: 0m 10s\n",
            "\tTrain Loss: 0.554\n",
            "\t Val. Loss: 0.667\n",
            "\n"
          ]
        },
        {
          "output_type": "stream",
          "name": "stderr",
          "text": [
            "100%|██████████| 5/5 [00:07<00:00,  1.56s/it]\n",
            "100%|██████████| 5/5 [00:02<00:00,  1.75it/s]\n"
          ]
        },
        {
          "output_type": "stream",
          "name": "stdout",
          "text": [
            "Valid loss improved from 0.6669 to 0.665442\n",
            "Epoch: 83 | Epoch Time: 0m 10s\n",
            "\tTrain Loss: 0.549\n",
            "\t Val. Loss: 0.665\n",
            "\n"
          ]
        },
        {
          "output_type": "stream",
          "name": "stderr",
          "text": [
            "100%|██████████| 5/5 [00:07<00:00,  1.56s/it]\n",
            "100%|██████████| 5/5 [00:02<00:00,  1.74it/s]\n"
          ]
        },
        {
          "output_type": "stream",
          "name": "stdout",
          "text": [
            "Epoch: 84 | Epoch Time: 0m 10s\n",
            "\tTrain Loss: 0.544\n",
            "\t Val. Loss: 0.666\n",
            "\n"
          ]
        },
        {
          "output_type": "stream",
          "name": "stderr",
          "text": [
            "100%|██████████| 5/5 [00:07<00:00,  1.56s/it]\n",
            "100%|██████████| 5/5 [00:02<00:00,  1.74it/s]\n"
          ]
        },
        {
          "output_type": "stream",
          "name": "stdout",
          "text": [
            "Valid loss improved from 0.6654 to 0.656518\n",
            "Epoch: 85 | Epoch Time: 0m 11s\n",
            "\tTrain Loss: 0.538\n",
            "\t Val. Loss: 0.657\n",
            "\n"
          ]
        },
        {
          "output_type": "stream",
          "name": "stderr",
          "text": [
            "100%|██████████| 5/5 [00:07<00:00,  1.56s/it]\n",
            "100%|██████████| 5/5 [00:02<00:00,  1.72it/s]\n"
          ]
        },
        {
          "output_type": "stream",
          "name": "stdout",
          "text": [
            "Valid loss improved from 0.6565 to 0.655632\n",
            "Epoch: 86 | Epoch Time: 0m 11s\n",
            "\tTrain Loss: 0.534\n",
            "\t Val. Loss: 0.656\n",
            "\n"
          ]
        },
        {
          "output_type": "stream",
          "name": "stderr",
          "text": [
            "100%|██████████| 5/5 [00:07<00:00,  1.56s/it]\n",
            "100%|██████████| 5/5 [00:02<00:00,  1.74it/s]\n"
          ]
        },
        {
          "output_type": "stream",
          "name": "stdout",
          "text": [
            "Valid loss improved from 0.6556 to 0.652080\n",
            "Epoch: 87 | Epoch Time: 0m 10s\n",
            "\tTrain Loss: 0.530\n",
            "\t Val. Loss: 0.652\n",
            "\n"
          ]
        },
        {
          "output_type": "stream",
          "name": "stderr",
          "text": [
            "100%|██████████| 5/5 [00:07<00:00,  1.57s/it]\n",
            "100%|██████████| 5/5 [00:02<00:00,  1.73it/s]\n"
          ]
        },
        {
          "output_type": "stream",
          "name": "stdout",
          "text": [
            "Epoch: 88 | Epoch Time: 0m 10s\n",
            "\tTrain Loss: 0.527\n",
            "\t Val. Loss: 0.652\n",
            "\n"
          ]
        },
        {
          "output_type": "stream",
          "name": "stderr",
          "text": [
            "100%|██████████| 5/5 [00:07<00:00,  1.56s/it]\n",
            "100%|██████████| 5/5 [00:02<00:00,  1.75it/s]\n"
          ]
        },
        {
          "output_type": "stream",
          "name": "stdout",
          "text": [
            "Valid loss improved from 0.6521 to 0.644759\n",
            "Epoch: 89 | Epoch Time: 0m 10s\n",
            "\tTrain Loss: 0.521\n",
            "\t Val. Loss: 0.645\n",
            "\n"
          ]
        },
        {
          "output_type": "stream",
          "name": "stderr",
          "text": [
            "100%|██████████| 5/5 [00:07<00:00,  1.55s/it]\n",
            "100%|██████████| 5/5 [00:02<00:00,  1.75it/s]\n"
          ]
        },
        {
          "output_type": "stream",
          "name": "stdout",
          "text": [
            "Epoch: 90 | Epoch Time: 0m 10s\n",
            "\tTrain Loss: 0.519\n",
            "\t Val. Loss: 0.646\n",
            "\n"
          ]
        },
        {
          "output_type": "stream",
          "name": "stderr",
          "text": [
            "100%|██████████| 5/5 [00:07<00:00,  1.56s/it]\n",
            "100%|██████████| 5/5 [00:02<00:00,  1.75it/s]\n"
          ]
        },
        {
          "output_type": "stream",
          "name": "stdout",
          "text": [
            "Valid loss improved from 0.6448 to 0.641079\n",
            "Epoch: 91 | Epoch Time: 0m 10s\n",
            "\tTrain Loss: 0.514\n",
            "\t Val. Loss: 0.641\n",
            "\n"
          ]
        },
        {
          "output_type": "stream",
          "name": "stderr",
          "text": [
            "100%|██████████| 5/5 [00:07<00:00,  1.55s/it]\n",
            "100%|██████████| 5/5 [00:02<00:00,  1.73it/s]\n"
          ]
        },
        {
          "output_type": "stream",
          "name": "stdout",
          "text": [
            "Valid loss improved from 0.6411 to 0.639582\n",
            "Epoch: 92 | Epoch Time: 0m 10s\n",
            "\tTrain Loss: 0.510\n",
            "\t Val. Loss: 0.640\n",
            "\n"
          ]
        },
        {
          "output_type": "stream",
          "name": "stderr",
          "text": [
            "100%|██████████| 5/5 [00:07<00:00,  1.55s/it]\n",
            "100%|██████████| 5/5 [00:02<00:00,  1.76it/s]\n"
          ]
        },
        {
          "output_type": "stream",
          "name": "stdout",
          "text": [
            "Valid loss improved from 0.6396 to 0.637864\n",
            "Epoch: 93 | Epoch Time: 0m 10s\n",
            "\tTrain Loss: 0.506\n",
            "\t Val. Loss: 0.638\n",
            "\n"
          ]
        },
        {
          "output_type": "stream",
          "name": "stderr",
          "text": [
            "100%|██████████| 5/5 [00:07<00:00,  1.55s/it]\n",
            "100%|██████████| 5/5 [00:02<00:00,  1.74it/s]\n"
          ]
        },
        {
          "output_type": "stream",
          "name": "stdout",
          "text": [
            "Valid loss improved from 0.6379 to 0.635679\n",
            "Epoch: 94 | Epoch Time: 0m 10s\n",
            "\tTrain Loss: 0.504\n",
            "\t Val. Loss: 0.636\n",
            "\n"
          ]
        },
        {
          "output_type": "stream",
          "name": "stderr",
          "text": [
            "100%|██████████| 5/5 [00:07<00:00,  1.56s/it]\n",
            "100%|██████████| 5/5 [00:02<00:00,  1.73it/s]\n"
          ]
        },
        {
          "output_type": "stream",
          "name": "stdout",
          "text": [
            "Valid loss improved from 0.6357 to 0.635124\n",
            "Epoch: 95 | Epoch Time: 0m 10s\n",
            "\tTrain Loss: 0.500\n",
            "\t Val. Loss: 0.635\n",
            "\n"
          ]
        },
        {
          "output_type": "stream",
          "name": "stderr",
          "text": [
            "100%|██████████| 5/5 [00:07<00:00,  1.56s/it]\n",
            "100%|██████████| 5/5 [00:02<00:00,  1.75it/s]\n"
          ]
        },
        {
          "output_type": "stream",
          "name": "stdout",
          "text": [
            "Valid loss improved from 0.6351 to 0.631898\n",
            "Epoch: 96 | Epoch Time: 0m 10s\n",
            "\tTrain Loss: 0.496\n",
            "\t Val. Loss: 0.632\n",
            "\n"
          ]
        },
        {
          "output_type": "stream",
          "name": "stderr",
          "text": [
            "100%|██████████| 5/5 [00:07<00:00,  1.56s/it]\n",
            "100%|██████████| 5/5 [00:02<00:00,  1.74it/s]\n"
          ]
        },
        {
          "output_type": "stream",
          "name": "stdout",
          "text": [
            "Valid loss improved from 0.6319 to 0.629860\n",
            "Epoch: 97 | Epoch Time: 0m 11s\n",
            "\tTrain Loss: 0.492\n",
            "\t Val. Loss: 0.630\n",
            "\n"
          ]
        },
        {
          "output_type": "stream",
          "name": "stderr",
          "text": [
            "100%|██████████| 5/5 [00:07<00:00,  1.56s/it]\n",
            "100%|██████████| 5/5 [00:02<00:00,  1.74it/s]\n"
          ]
        },
        {
          "output_type": "stream",
          "name": "stdout",
          "text": [
            "Valid loss improved from 0.6299 to 0.628409\n",
            "Epoch: 98 | Epoch Time: 0m 11s\n",
            "\tTrain Loss: 0.491\n",
            "\t Val. Loss: 0.628\n",
            "\n"
          ]
        },
        {
          "output_type": "stream",
          "name": "stderr",
          "text": [
            "100%|██████████| 5/5 [00:07<00:00,  1.56s/it]\n",
            "100%|██████████| 5/5 [00:02<00:00,  1.74it/s]\n"
          ]
        },
        {
          "output_type": "stream",
          "name": "stdout",
          "text": [
            "Valid loss improved from 0.6284 to 0.623237\n",
            "Epoch: 99 | Epoch Time: 0m 10s\n",
            "\tTrain Loss: 0.488\n",
            "\t Val. Loss: 0.623\n",
            "\n"
          ]
        },
        {
          "output_type": "stream",
          "name": "stderr",
          "text": [
            "100%|██████████| 5/5 [00:07<00:00,  1.55s/it]\n",
            "100%|██████████| 5/5 [00:02<00:00,  1.75it/s]\n"
          ]
        },
        {
          "output_type": "stream",
          "name": "stdout",
          "text": [
            "Valid loss improved from 0.6232 to 0.622824\n",
            "Epoch: 100 | Epoch Time: 0m 10s\n",
            "\tTrain Loss: 0.483\n",
            "\t Val. Loss: 0.623\n",
            "\n"
          ]
        },
        {
          "output_type": "stream",
          "name": "stderr",
          "text": [
            "100%|██████████| 5/5 [00:07<00:00,  1.56s/it]\n",
            "100%|██████████| 5/5 [00:02<00:00,  1.75it/s]\n"
          ]
        },
        {
          "output_type": "stream",
          "name": "stdout",
          "text": [
            "Valid loss improved from 0.6228 to 0.619346\n",
            "Epoch: 101 | Epoch Time: 0m 10s\n",
            "\tTrain Loss: 0.480\n",
            "\t Val. Loss: 0.619\n",
            "\n"
          ]
        },
        {
          "output_type": "stream",
          "name": "stderr",
          "text": [
            "100%|██████████| 5/5 [00:07<00:00,  1.56s/it]\n",
            "100%|██████████| 5/5 [00:02<00:00,  1.75it/s]\n"
          ]
        },
        {
          "output_type": "stream",
          "name": "stdout",
          "text": [
            "Valid loss improved from 0.6193 to 0.615956\n",
            "Epoch: 102 | Epoch Time: 0m 10s\n",
            "\tTrain Loss: 0.477\n",
            "\t Val. Loss: 0.616\n",
            "\n"
          ]
        },
        {
          "output_type": "stream",
          "name": "stderr",
          "text": [
            "100%|██████████| 5/5 [00:07<00:00,  1.55s/it]\n",
            "100%|██████████| 5/5 [00:02<00:00,  1.74it/s]\n"
          ]
        },
        {
          "output_type": "stream",
          "name": "stdout",
          "text": [
            "Epoch: 103 | Epoch Time: 0m 10s\n",
            "\tTrain Loss: 0.472\n",
            "\t Val. Loss: 0.616\n",
            "\n"
          ]
        },
        {
          "output_type": "stream",
          "name": "stderr",
          "text": [
            "100%|██████████| 5/5 [00:07<00:00,  1.56s/it]\n",
            "100%|██████████| 5/5 [00:02<00:00,  1.73it/s]\n"
          ]
        },
        {
          "output_type": "stream",
          "name": "stdout",
          "text": [
            "Valid loss improved from 0.6160 to 0.612706\n",
            "Epoch: 104 | Epoch Time: 0m 10s\n",
            "\tTrain Loss: 0.470\n",
            "\t Val. Loss: 0.613\n",
            "\n"
          ]
        },
        {
          "output_type": "stream",
          "name": "stderr",
          "text": [
            "100%|██████████| 5/5 [00:07<00:00,  1.56s/it]\n",
            "100%|██████████| 5/5 [00:02<00:00,  1.73it/s]\n"
          ]
        },
        {
          "output_type": "stream",
          "name": "stdout",
          "text": [
            "Valid loss improved from 0.6127 to 0.610555\n",
            "Epoch: 105 | Epoch Time: 0m 11s\n",
            "\tTrain Loss: 0.465\n",
            "\t Val. Loss: 0.611\n",
            "\n"
          ]
        },
        {
          "output_type": "stream",
          "name": "stderr",
          "text": [
            "100%|██████████| 5/5 [00:07<00:00,  1.56s/it]\n",
            "100%|██████████| 5/5 [00:02<00:00,  1.73it/s]\n"
          ]
        },
        {
          "output_type": "stream",
          "name": "stdout",
          "text": [
            "Valid loss improved from 0.6106 to 0.605891\n",
            "Epoch: 106 | Epoch Time: 0m 11s\n",
            "\tTrain Loss: 0.464\n",
            "\t Val. Loss: 0.606\n",
            "\n"
          ]
        },
        {
          "output_type": "stream",
          "name": "stderr",
          "text": [
            "100%|██████████| 5/5 [00:07<00:00,  1.55s/it]\n",
            "100%|██████████| 5/5 [00:02<00:00,  1.74it/s]\n"
          ]
        },
        {
          "output_type": "stream",
          "name": "stdout",
          "text": [
            "Valid loss improved from 0.6059 to 0.605036\n",
            "Epoch: 107 | Epoch Time: 0m 10s\n",
            "\tTrain Loss: 0.460\n",
            "\t Val. Loss: 0.605\n",
            "\n"
          ]
        },
        {
          "output_type": "stream",
          "name": "stderr",
          "text": [
            "100%|██████████| 5/5 [00:07<00:00,  1.56s/it]\n",
            "100%|██████████| 5/5 [00:02<00:00,  1.75it/s]\n"
          ]
        },
        {
          "output_type": "stream",
          "name": "stdout",
          "text": [
            "Valid loss improved from 0.6050 to 0.598331\n",
            "Epoch: 108 | Epoch Time: 0m 10s\n",
            "\tTrain Loss: 0.455\n",
            "\t Val. Loss: 0.598\n",
            "\n"
          ]
        },
        {
          "output_type": "stream",
          "name": "stderr",
          "text": [
            "100%|██████████| 5/5 [00:07<00:00,  1.56s/it]\n",
            "100%|██████████| 5/5 [00:02<00:00,  1.75it/s]\n"
          ]
        },
        {
          "output_type": "stream",
          "name": "stdout",
          "text": [
            "Epoch: 109 | Epoch Time: 0m 10s\n",
            "\tTrain Loss: 0.454\n",
            "\t Val. Loss: 0.604\n",
            "\n"
          ]
        },
        {
          "output_type": "stream",
          "name": "stderr",
          "text": [
            "100%|██████████| 5/5 [00:07<00:00,  1.56s/it]\n",
            "100%|██████████| 5/5 [00:02<00:00,  1.74it/s]\n"
          ]
        },
        {
          "output_type": "stream",
          "name": "stdout",
          "text": [
            "Valid loss improved from 0.5983 to 0.593214\n",
            "Epoch: 110 | Epoch Time: 0m 10s\n",
            "\tTrain Loss: 0.451\n",
            "\t Val. Loss: 0.593\n",
            "\n"
          ]
        },
        {
          "output_type": "stream",
          "name": "stderr",
          "text": [
            "100%|██████████| 5/5 [00:07<00:00,  1.56s/it]\n",
            "100%|██████████| 5/5 [00:02<00:00,  1.75it/s]\n"
          ]
        },
        {
          "output_type": "stream",
          "name": "stdout",
          "text": [
            "Epoch: 111 | Epoch Time: 0m 10s\n",
            "\tTrain Loss: 0.446\n",
            "\t Val. Loss: 0.593\n",
            "\n"
          ]
        },
        {
          "output_type": "stream",
          "name": "stderr",
          "text": [
            "100%|██████████| 5/5 [00:07<00:00,  1.55s/it]\n",
            "100%|██████████| 5/5 [00:02<00:00,  1.76it/s]\n"
          ]
        },
        {
          "output_type": "stream",
          "name": "stdout",
          "text": [
            "Valid loss improved from 0.5932 to 0.592777\n",
            "Epoch: 112 | Epoch Time: 0m 10s\n",
            "\tTrain Loss: 0.445\n",
            "\t Val. Loss: 0.593\n",
            "\n"
          ]
        },
        {
          "output_type": "stream",
          "name": "stderr",
          "text": [
            "100%|██████████| 5/5 [00:07<00:00,  1.56s/it]\n",
            "100%|██████████| 5/5 [00:02<00:00,  1.75it/s]\n"
          ]
        },
        {
          "output_type": "stream",
          "name": "stdout",
          "text": [
            "Valid loss improved from 0.5928 to 0.590461\n",
            "Epoch: 113 | Epoch Time: 0m 10s\n",
            "\tTrain Loss: 0.441\n",
            "\t Val. Loss: 0.590\n",
            "\n"
          ]
        },
        {
          "output_type": "stream",
          "name": "stderr",
          "text": [
            "100%|██████████| 5/5 [00:07<00:00,  1.56s/it]\n",
            "100%|██████████| 5/5 [00:02<00:00,  1.75it/s]\n"
          ]
        },
        {
          "output_type": "stream",
          "name": "stdout",
          "text": [
            "Epoch: 114 | Epoch Time: 0m 10s\n",
            "\tTrain Loss: 0.439\n",
            "\t Val. Loss: 0.591\n",
            "\n"
          ]
        },
        {
          "output_type": "stream",
          "name": "stderr",
          "text": [
            "100%|██████████| 5/5 [00:07<00:00,  1.56s/it]\n",
            "100%|██████████| 5/5 [00:02<00:00,  1.74it/s]\n"
          ]
        },
        {
          "output_type": "stream",
          "name": "stdout",
          "text": [
            "Valid loss improved from 0.5905 to 0.587222\n",
            "Epoch: 115 | Epoch Time: 0m 10s\n",
            "\tTrain Loss: 0.436\n",
            "\t Val. Loss: 0.587\n",
            "\n"
          ]
        },
        {
          "output_type": "stream",
          "name": "stderr",
          "text": [
            "100%|██████████| 5/5 [00:07<00:00,  1.56s/it]\n",
            "100%|██████████| 5/5 [00:02<00:00,  1.72it/s]\n"
          ]
        },
        {
          "output_type": "stream",
          "name": "stdout",
          "text": [
            "Epoch: 116 | Epoch Time: 0m 10s\n",
            "\tTrain Loss: 0.433\n",
            "\t Val. Loss: 0.590\n",
            "\n"
          ]
        },
        {
          "output_type": "stream",
          "name": "stderr",
          "text": [
            "100%|██████████| 5/5 [00:07<00:00,  1.56s/it]\n",
            "100%|██████████| 5/5 [00:02<00:00,  1.73it/s]\n"
          ]
        },
        {
          "output_type": "stream",
          "name": "stdout",
          "text": [
            "Valid loss improved from 0.5872 to 0.584699\n",
            "Epoch: 117 | Epoch Time: 0m 11s\n",
            "\tTrain Loss: 0.431\n",
            "\t Val. Loss: 0.585\n",
            "\n"
          ]
        },
        {
          "output_type": "stream",
          "name": "stderr",
          "text": [
            "100%|██████████| 5/5 [00:07<00:00,  1.56s/it]\n",
            "100%|██████████| 5/5 [00:02<00:00,  1.75it/s]\n"
          ]
        },
        {
          "output_type": "stream",
          "name": "stdout",
          "text": [
            "Valid loss improved from 0.5847 to 0.580623\n",
            "Epoch: 118 | Epoch Time: 0m 10s\n",
            "\tTrain Loss: 0.427\n",
            "\t Val. Loss: 0.581\n",
            "\n"
          ]
        },
        {
          "output_type": "stream",
          "name": "stderr",
          "text": [
            "100%|██████████| 5/5 [00:07<00:00,  1.56s/it]\n",
            "100%|██████████| 5/5 [00:02<00:00,  1.73it/s]\n"
          ]
        },
        {
          "output_type": "stream",
          "name": "stdout",
          "text": [
            "Valid loss improved from 0.5806 to 0.576771\n",
            "Epoch: 119 | Epoch Time: 0m 11s\n",
            "\tTrain Loss: 0.425\n",
            "\t Val. Loss: 0.577\n",
            "\n"
          ]
        },
        {
          "output_type": "stream",
          "name": "stderr",
          "text": [
            "100%|██████████| 5/5 [00:07<00:00,  1.56s/it]\n",
            "100%|██████████| 5/5 [00:02<00:00,  1.74it/s]\n"
          ]
        },
        {
          "output_type": "stream",
          "name": "stdout",
          "text": [
            "Epoch: 120 | Epoch Time: 0m 10s\n",
            "\tTrain Loss: 0.420\n",
            "\t Val. Loss: 0.578\n",
            "\n"
          ]
        },
        {
          "output_type": "stream",
          "name": "stderr",
          "text": [
            "100%|██████████| 5/5 [00:07<00:00,  1.56s/it]\n",
            "100%|██████████| 5/5 [00:02<00:00,  1.74it/s]\n"
          ]
        },
        {
          "output_type": "stream",
          "name": "stdout",
          "text": [
            "Valid loss improved from 0.5768 to 0.569753\n",
            "Epoch: 121 | Epoch Time: 0m 10s\n",
            "\tTrain Loss: 0.420\n",
            "\t Val. Loss: 0.570\n",
            "\n"
          ]
        },
        {
          "output_type": "stream",
          "name": "stderr",
          "text": [
            "100%|██████████| 5/5 [00:07<00:00,  1.56s/it]\n",
            "100%|██████████| 5/5 [00:02<00:00,  1.75it/s]\n"
          ]
        },
        {
          "output_type": "stream",
          "name": "stdout",
          "text": [
            "Epoch: 122 | Epoch Time: 0m 10s\n",
            "\tTrain Loss: 0.416\n",
            "\t Val. Loss: 0.573\n",
            "\n"
          ]
        },
        {
          "output_type": "stream",
          "name": "stderr",
          "text": [
            "100%|██████████| 5/5 [00:07<00:00,  1.56s/it]\n",
            "100%|██████████| 5/5 [00:02<00:00,  1.73it/s]\n"
          ]
        },
        {
          "output_type": "stream",
          "name": "stdout",
          "text": [
            "Valid loss improved from 0.5698 to 0.569657\n",
            "Epoch: 123 | Epoch Time: 0m 11s\n",
            "\tTrain Loss: 0.414\n",
            "\t Val. Loss: 0.570\n",
            "\n"
          ]
        },
        {
          "output_type": "stream",
          "name": "stderr",
          "text": [
            "100%|██████████| 5/5 [00:07<00:00,  1.56s/it]\n",
            "100%|██████████| 5/5 [00:02<00:00,  1.73it/s]\n"
          ]
        },
        {
          "output_type": "stream",
          "name": "stdout",
          "text": [
            "Valid loss improved from 0.5697 to 0.566032\n",
            "Epoch: 124 | Epoch Time: 0m 10s\n",
            "\tTrain Loss: 0.410\n",
            "\t Val. Loss: 0.566\n",
            "\n"
          ]
        },
        {
          "output_type": "stream",
          "name": "stderr",
          "text": [
            "100%|██████████| 5/5 [00:07<00:00,  1.55s/it]\n",
            "100%|██████████| 5/5 [00:02<00:00,  1.75it/s]\n"
          ]
        },
        {
          "output_type": "stream",
          "name": "stdout",
          "text": [
            "Valid loss improved from 0.5660 to 0.562546\n",
            "Epoch: 125 | Epoch Time: 0m 10s\n",
            "\tTrain Loss: 0.406\n",
            "\t Val. Loss: 0.563\n",
            "\n"
          ]
        },
        {
          "output_type": "stream",
          "name": "stderr",
          "text": [
            "100%|██████████| 5/5 [00:07<00:00,  1.56s/it]\n",
            "100%|██████████| 5/5 [00:02<00:00,  1.74it/s]\n"
          ]
        },
        {
          "output_type": "stream",
          "name": "stdout",
          "text": [
            "Epoch: 126 | Epoch Time: 0m 10s\n",
            "\tTrain Loss: 0.406\n",
            "\t Val. Loss: 0.565\n",
            "\n"
          ]
        },
        {
          "output_type": "stream",
          "name": "stderr",
          "text": [
            "100%|██████████| 5/5 [00:07<00:00,  1.56s/it]\n",
            "100%|██████████| 5/5 [00:02<00:00,  1.75it/s]\n"
          ]
        },
        {
          "output_type": "stream",
          "name": "stdout",
          "text": [
            "Epoch: 127 | Epoch Time: 0m 10s\n",
            "\tTrain Loss: 0.403\n",
            "\t Val. Loss: 0.564\n",
            "\n"
          ]
        },
        {
          "output_type": "stream",
          "name": "stderr",
          "text": [
            "100%|██████████| 5/5 [00:07<00:00,  1.56s/it]\n",
            "100%|██████████| 5/5 [00:02<00:00,  1.74it/s]\n"
          ]
        },
        {
          "output_type": "stream",
          "name": "stdout",
          "text": [
            "Epoch: 128 | Epoch Time: 0m 10s\n",
            "\tTrain Loss: 0.401\n",
            "\t Val. Loss: 0.563\n",
            "\n"
          ]
        },
        {
          "output_type": "stream",
          "name": "stderr",
          "text": [
            "100%|██████████| 5/5 [00:07<00:00,  1.55s/it]\n",
            "100%|██████████| 5/5 [00:02<00:00,  1.75it/s]\n"
          ]
        },
        {
          "output_type": "stream",
          "name": "stdout",
          "text": [
            "Epoch: 129 | Epoch Time: 0m 10s\n",
            "\tTrain Loss: 0.400\n",
            "\t Val. Loss: 0.563\n",
            "\n"
          ]
        },
        {
          "output_type": "stream",
          "name": "stderr",
          "text": [
            "100%|██████████| 5/5 [00:07<00:00,  1.56s/it]\n",
            "100%|██████████| 5/5 [00:02<00:00,  1.74it/s]\n"
          ]
        },
        {
          "output_type": "stream",
          "name": "stdout",
          "text": [
            "Valid loss improved from 0.5625 to 0.559758\n",
            "Epoch: 130 | Epoch Time: 0m 10s\n",
            "\tTrain Loss: 0.395\n",
            "\t Val. Loss: 0.560\n",
            "\n"
          ]
        },
        {
          "output_type": "stream",
          "name": "stderr",
          "text": [
            "100%|██████████| 5/5 [00:07<00:00,  1.55s/it]\n",
            "100%|██████████| 5/5 [00:02<00:00,  1.75it/s]\n"
          ]
        },
        {
          "output_type": "stream",
          "name": "stdout",
          "text": [
            "Valid loss improved from 0.5598 to 0.551781\n",
            "Epoch: 131 | Epoch Time: 0m 10s\n",
            "\tTrain Loss: 0.394\n",
            "\t Val. Loss: 0.552\n",
            "\n"
          ]
        },
        {
          "output_type": "stream",
          "name": "stderr",
          "text": [
            "100%|██████████| 5/5 [00:07<00:00,  1.56s/it]\n",
            "100%|██████████| 5/5 [00:02<00:00,  1.72it/s]\n"
          ]
        },
        {
          "output_type": "stream",
          "name": "stdout",
          "text": [
            "Epoch: 132 | Epoch Time: 0m 10s\n",
            "\tTrain Loss: 0.391\n",
            "\t Val. Loss: 0.555\n",
            "\n"
          ]
        },
        {
          "output_type": "stream",
          "name": "stderr",
          "text": [
            "100%|██████████| 5/5 [00:07<00:00,  1.55s/it]\n",
            "100%|██████████| 5/5 [00:02<00:00,  1.76it/s]\n"
          ]
        },
        {
          "output_type": "stream",
          "name": "stdout",
          "text": [
            "Valid loss improved from 0.5518 to 0.549118\n",
            "Epoch: 133 | Epoch Time: 0m 10s\n",
            "\tTrain Loss: 0.389\n",
            "\t Val. Loss: 0.549\n",
            "\n"
          ]
        },
        {
          "output_type": "stream",
          "name": "stderr",
          "text": [
            "100%|██████████| 5/5 [00:07<00:00,  1.56s/it]\n",
            "100%|██████████| 5/5 [00:02<00:00,  1.74it/s]\n"
          ]
        },
        {
          "output_type": "stream",
          "name": "stdout",
          "text": [
            "Epoch: 134 | Epoch Time: 0m 10s\n",
            "\tTrain Loss: 0.385\n",
            "\t Val. Loss: 0.552\n",
            "\n"
          ]
        },
        {
          "output_type": "stream",
          "name": "stderr",
          "text": [
            "100%|██████████| 5/5 [00:07<00:00,  1.56s/it]\n",
            "100%|██████████| 5/5 [00:02<00:00,  1.74it/s]\n"
          ]
        },
        {
          "output_type": "stream",
          "name": "stdout",
          "text": [
            "Epoch: 135 | Epoch Time: 0m 10s\n",
            "\tTrain Loss: 0.381\n",
            "\t Val. Loss: 0.550\n",
            "\n"
          ]
        },
        {
          "output_type": "stream",
          "name": "stderr",
          "text": [
            "100%|██████████| 5/5 [00:07<00:00,  1.56s/it]\n",
            "100%|██████████| 5/5 [00:02<00:00,  1.74it/s]\n"
          ]
        },
        {
          "output_type": "stream",
          "name": "stdout",
          "text": [
            "Valid loss improved from 0.5491 to 0.544510\n",
            "Epoch: 136 | Epoch Time: 0m 10s\n",
            "\tTrain Loss: 0.380\n",
            "\t Val. Loss: 0.545\n",
            "\n"
          ]
        },
        {
          "output_type": "stream",
          "name": "stderr",
          "text": [
            "100%|██████████| 5/5 [00:07<00:00,  1.56s/it]\n",
            "100%|██████████| 5/5 [00:02<00:00,  1.74it/s]\n"
          ]
        },
        {
          "output_type": "stream",
          "name": "stdout",
          "text": [
            "Epoch: 137 | Epoch Time: 0m 10s\n",
            "\tTrain Loss: 0.378\n",
            "\t Val. Loss: 0.548\n",
            "\n"
          ]
        },
        {
          "output_type": "stream",
          "name": "stderr",
          "text": [
            "100%|██████████| 5/5 [00:07<00:00,  1.56s/it]\n",
            "100%|██████████| 5/5 [00:02<00:00,  1.74it/s]\n"
          ]
        },
        {
          "output_type": "stream",
          "name": "stdout",
          "text": [
            "Valid loss improved from 0.5445 to 0.544289\n",
            "Epoch: 138 | Epoch Time: 0m 10s\n",
            "\tTrain Loss: 0.374\n",
            "\t Val. Loss: 0.544\n",
            "\n"
          ]
        },
        {
          "output_type": "stream",
          "name": "stderr",
          "text": [
            "100%|██████████| 5/5 [00:07<00:00,  1.55s/it]\n",
            "100%|██████████| 5/5 [00:02<00:00,  1.74it/s]\n"
          ]
        },
        {
          "output_type": "stream",
          "name": "stdout",
          "text": [
            "Epoch: 139 | Epoch Time: 0m 10s\n",
            "\tTrain Loss: 0.373\n",
            "\t Val. Loss: 0.545\n",
            "\n"
          ]
        },
        {
          "output_type": "stream",
          "name": "stderr",
          "text": [
            "100%|██████████| 5/5 [00:07<00:00,  1.56s/it]\n",
            "100%|██████████| 5/5 [00:02<00:00,  1.74it/s]\n"
          ]
        },
        {
          "output_type": "stream",
          "name": "stdout",
          "text": [
            "Valid loss improved from 0.5443 to 0.538295\n",
            "Epoch: 140 | Epoch Time: 0m 10s\n",
            "\tTrain Loss: 0.371\n",
            "\t Val. Loss: 0.538\n",
            "\n"
          ]
        },
        {
          "output_type": "stream",
          "name": "stderr",
          "text": [
            "100%|██████████| 5/5 [00:07<00:00,  1.56s/it]\n",
            "100%|██████████| 5/5 [00:02<00:00,  1.72it/s]\n"
          ]
        },
        {
          "output_type": "stream",
          "name": "stdout",
          "text": [
            "Epoch: 141 | Epoch Time: 0m 10s\n",
            "\tTrain Loss: 0.368\n",
            "\t Val. Loss: 0.541\n",
            "\n"
          ]
        },
        {
          "output_type": "stream",
          "name": "stderr",
          "text": [
            "100%|██████████| 5/5 [00:07<00:00,  1.56s/it]\n",
            "100%|██████████| 5/5 [00:02<00:00,  1.74it/s]\n"
          ]
        },
        {
          "output_type": "stream",
          "name": "stdout",
          "text": [
            "Valid loss improved from 0.5383 to 0.536433\n",
            "Epoch: 142 | Epoch Time: 0m 10s\n",
            "\tTrain Loss: 0.365\n",
            "\t Val. Loss: 0.536\n",
            "\n"
          ]
        },
        {
          "output_type": "stream",
          "name": "stderr",
          "text": [
            "100%|██████████| 5/5 [00:07<00:00,  1.56s/it]\n",
            "100%|██████████| 5/5 [00:02<00:00,  1.73it/s]\n"
          ]
        },
        {
          "output_type": "stream",
          "name": "stdout",
          "text": [
            "Valid loss improved from 0.5364 to 0.535495\n",
            "Epoch: 143 | Epoch Time: 0m 11s\n",
            "\tTrain Loss: 0.362\n",
            "\t Val. Loss: 0.535\n",
            "\n"
          ]
        },
        {
          "output_type": "stream",
          "name": "stderr",
          "text": [
            "100%|██████████| 5/5 [00:07<00:00,  1.57s/it]\n",
            "100%|██████████| 5/5 [00:02<00:00,  1.74it/s]\n"
          ]
        },
        {
          "output_type": "stream",
          "name": "stdout",
          "text": [
            "Epoch: 144 | Epoch Time: 0m 10s\n",
            "\tTrain Loss: 0.361\n",
            "\t Val. Loss: 0.539\n",
            "\n"
          ]
        },
        {
          "output_type": "stream",
          "name": "stderr",
          "text": [
            "100%|██████████| 5/5 [00:07<00:00,  1.56s/it]\n",
            "100%|██████████| 5/5 [00:02<00:00,  1.75it/s]\n"
          ]
        },
        {
          "output_type": "stream",
          "name": "stdout",
          "text": [
            "Epoch: 145 | Epoch Time: 0m 10s\n",
            "\tTrain Loss: 0.359\n",
            "\t Val. Loss: 0.536\n",
            "\n"
          ]
        },
        {
          "output_type": "stream",
          "name": "stderr",
          "text": [
            "100%|██████████| 5/5 [00:07<00:00,  1.56s/it]\n",
            "100%|██████████| 5/5 [00:02<00:00,  1.74it/s]\n"
          ]
        },
        {
          "output_type": "stream",
          "name": "stdout",
          "text": [
            "Valid loss improved from 0.5355 to 0.529719\n",
            "Epoch: 146 | Epoch Time: 0m 10s\n",
            "\tTrain Loss: 0.357\n",
            "\t Val. Loss: 0.530\n",
            "\n"
          ]
        },
        {
          "output_type": "stream",
          "name": "stderr",
          "text": [
            "100%|██████████| 5/5 [00:07<00:00,  1.56s/it]\n",
            "100%|██████████| 5/5 [00:02<00:00,  1.74it/s]\n"
          ]
        },
        {
          "output_type": "stream",
          "name": "stdout",
          "text": [
            "Valid loss improved from 0.5297 to 0.528154\n",
            "Epoch: 147 | Epoch Time: 0m 10s\n",
            "\tTrain Loss: 0.355\n",
            "\t Val. Loss: 0.528\n",
            "\n"
          ]
        },
        {
          "output_type": "stream",
          "name": "stderr",
          "text": [
            "100%|██████████| 5/5 [00:07<00:00,  1.55s/it]\n",
            "100%|██████████| 5/5 [00:02<00:00,  1.74it/s]\n"
          ]
        },
        {
          "output_type": "stream",
          "name": "stdout",
          "text": [
            "Epoch: 148 | Epoch Time: 0m 10s\n",
            "\tTrain Loss: 0.354\n",
            "\t Val. Loss: 0.529\n",
            "\n"
          ]
        },
        {
          "output_type": "stream",
          "name": "stderr",
          "text": [
            "100%|██████████| 5/5 [00:07<00:00,  1.56s/it]\n",
            "100%|██████████| 5/5 [00:02<00:00,  1.75it/s]\n"
          ]
        },
        {
          "output_type": "stream",
          "name": "stdout",
          "text": [
            "Valid loss improved from 0.5282 to 0.526313\n",
            "Epoch: 149 | Epoch Time: 0m 10s\n",
            "\tTrain Loss: 0.350\n",
            "\t Val. Loss: 0.526\n",
            "\n"
          ]
        },
        {
          "output_type": "stream",
          "name": "stderr",
          "text": [
            "100%|██████████| 5/5 [00:07<00:00,  1.56s/it]\n",
            "100%|██████████| 5/5 [00:02<00:00,  1.72it/s]\n"
          ]
        },
        {
          "output_type": "stream",
          "name": "stdout",
          "text": [
            "Valid loss improved from 0.5263 to 0.525965\n",
            "Epoch: 150 | Epoch Time: 0m 11s\n",
            "\tTrain Loss: 0.349\n",
            "\t Val. Loss: 0.526\n",
            "\n"
          ]
        },
        {
          "output_type": "stream",
          "name": "stderr",
          "text": [
            "100%|██████████| 5/5 [00:07<00:00,  1.55s/it]\n",
            "100%|██████████| 5/5 [00:02<00:00,  1.74it/s]\n"
          ]
        },
        {
          "output_type": "stream",
          "name": "stdout",
          "text": [
            "Epoch: 151 | Epoch Time: 0m 10s\n",
            "\tTrain Loss: 0.346\n",
            "\t Val. Loss: 0.528\n",
            "\n"
          ]
        },
        {
          "output_type": "stream",
          "name": "stderr",
          "text": [
            "100%|██████████| 5/5 [00:07<00:00,  1.56s/it]\n",
            "100%|██████████| 5/5 [00:02<00:00,  1.74it/s]\n"
          ]
        },
        {
          "output_type": "stream",
          "name": "stdout",
          "text": [
            "Valid loss improved from 0.5260 to 0.519787\n",
            "Epoch: 152 | Epoch Time: 0m 11s\n",
            "\tTrain Loss: 0.345\n",
            "\t Val. Loss: 0.520\n",
            "\n"
          ]
        },
        {
          "output_type": "stream",
          "name": "stderr",
          "text": [
            "100%|██████████| 5/5 [00:07<00:00,  1.56s/it]\n",
            "100%|██████████| 5/5 [00:02<00:00,  1.75it/s]\n"
          ]
        },
        {
          "output_type": "stream",
          "name": "stdout",
          "text": [
            "Epoch: 153 | Epoch Time: 0m 10s\n",
            "\tTrain Loss: 0.345\n",
            "\t Val. Loss: 0.532\n",
            "\n"
          ]
        },
        {
          "output_type": "stream",
          "name": "stderr",
          "text": [
            "100%|██████████| 5/5 [00:07<00:00,  1.56s/it]\n",
            "100%|██████████| 5/5 [00:02<00:00,  1.75it/s]\n"
          ]
        },
        {
          "output_type": "stream",
          "name": "stdout",
          "text": [
            "Valid loss improved from 0.5198 to 0.518868\n",
            "Epoch: 154 | Epoch Time: 0m 10s\n",
            "\tTrain Loss: 0.340\n",
            "\t Val. Loss: 0.519\n",
            "\n"
          ]
        },
        {
          "output_type": "stream",
          "name": "stderr",
          "text": [
            "100%|██████████| 5/5 [00:07<00:00,  1.55s/it]\n",
            "100%|██████████| 5/5 [00:02<00:00,  1.75it/s]\n"
          ]
        },
        {
          "output_type": "stream",
          "name": "stdout",
          "text": [
            "Epoch: 155 | Epoch Time: 0m 10s\n",
            "\tTrain Loss: 0.339\n",
            "\t Val. Loss: 0.521\n",
            "\n"
          ]
        },
        {
          "output_type": "stream",
          "name": "stderr",
          "text": [
            "100%|██████████| 5/5 [00:07<00:00,  1.56s/it]\n",
            "100%|██████████| 5/5 [00:02<00:00,  1.73it/s]\n"
          ]
        },
        {
          "output_type": "stream",
          "name": "stdout",
          "text": [
            "Valid loss improved from 0.5189 to 0.517661\n",
            "Epoch: 156 | Epoch Time: 0m 11s\n",
            "\tTrain Loss: 0.337\n",
            "\t Val. Loss: 0.518\n",
            "\n"
          ]
        },
        {
          "output_type": "stream",
          "name": "stderr",
          "text": [
            "100%|██████████| 5/5 [00:07<00:00,  1.56s/it]\n",
            "100%|██████████| 5/5 [00:02<00:00,  1.73it/s]\n"
          ]
        },
        {
          "output_type": "stream",
          "name": "stdout",
          "text": [
            "Valid loss improved from 0.5177 to 0.514628\n",
            "Epoch: 157 | Epoch Time: 0m 10s\n",
            "\tTrain Loss: 0.334\n",
            "\t Val. Loss: 0.515\n",
            "\n"
          ]
        },
        {
          "output_type": "stream",
          "name": "stderr",
          "text": [
            "100%|██████████| 5/5 [00:07<00:00,  1.56s/it]\n",
            "100%|██████████| 5/5 [00:02<00:00,  1.75it/s]\n"
          ]
        },
        {
          "output_type": "stream",
          "name": "stdout",
          "text": [
            "Epoch: 158 | Epoch Time: 0m 10s\n",
            "\tTrain Loss: 0.334\n",
            "\t Val. Loss: 0.527\n",
            "\n"
          ]
        },
        {
          "output_type": "stream",
          "name": "stderr",
          "text": [
            "100%|██████████| 5/5 [00:07<00:00,  1.56s/it]\n",
            "100%|██████████| 5/5 [00:02<00:00,  1.73it/s]\n"
          ]
        },
        {
          "output_type": "stream",
          "name": "stdout",
          "text": [
            "Valid loss improved from 0.5146 to 0.512079\n",
            "Epoch: 159 | Epoch Time: 0m 11s\n",
            "\tTrain Loss: 0.334\n",
            "\t Val. Loss: 0.512\n",
            "\n"
          ]
        },
        {
          "output_type": "stream",
          "name": "stderr",
          "text": [
            "100%|██████████| 5/5 [00:07<00:00,  1.56s/it]\n",
            "100%|██████████| 5/5 [00:02<00:00,  1.74it/s]\n"
          ]
        },
        {
          "output_type": "stream",
          "name": "stdout",
          "text": [
            "Epoch: 160 | Epoch Time: 0m 10s\n",
            "\tTrain Loss: 0.331\n",
            "\t Val. Loss: 0.513\n",
            "\n"
          ]
        },
        {
          "output_type": "stream",
          "name": "stderr",
          "text": [
            "100%|██████████| 5/5 [00:07<00:00,  1.55s/it]\n",
            "100%|██████████| 5/5 [00:02<00:00,  1.74it/s]\n"
          ]
        },
        {
          "output_type": "stream",
          "name": "stdout",
          "text": [
            "Epoch: 161 | Epoch Time: 0m 10s\n",
            "\tTrain Loss: 0.329\n",
            "\t Val. Loss: 0.514\n",
            "\n"
          ]
        },
        {
          "output_type": "stream",
          "name": "stderr",
          "text": [
            "100%|██████████| 5/5 [00:07<00:00,  1.56s/it]\n",
            "100%|██████████| 5/5 [00:02<00:00,  1.75it/s]\n"
          ]
        },
        {
          "output_type": "stream",
          "name": "stdout",
          "text": [
            "Valid loss improved from 0.5121 to 0.508207\n",
            "Epoch: 162 | Epoch Time: 0m 11s\n",
            "\tTrain Loss: 0.326\n",
            "\t Val. Loss: 0.508\n",
            "\n"
          ]
        },
        {
          "output_type": "stream",
          "name": "stderr",
          "text": [
            "100%|██████████| 5/5 [00:07<00:00,  1.56s/it]\n",
            "100%|██████████| 5/5 [00:02<00:00,  1.73it/s]\n"
          ]
        },
        {
          "output_type": "stream",
          "name": "stdout",
          "text": [
            "Epoch: 163 | Epoch Time: 0m 10s\n",
            "\tTrain Loss: 0.324\n",
            "\t Val. Loss: 0.512\n",
            "\n"
          ]
        },
        {
          "output_type": "stream",
          "name": "stderr",
          "text": [
            "100%|██████████| 5/5 [00:07<00:00,  1.56s/it]\n",
            "100%|██████████| 5/5 [00:02<00:00,  1.74it/s]\n"
          ]
        },
        {
          "output_type": "stream",
          "name": "stdout",
          "text": [
            "Valid loss improved from 0.5082 to 0.505136\n",
            "Epoch: 164 | Epoch Time: 0m 10s\n",
            "\tTrain Loss: 0.322\n",
            "\t Val. Loss: 0.505\n",
            "\n"
          ]
        },
        {
          "output_type": "stream",
          "name": "stderr",
          "text": [
            "100%|██████████| 5/5 [00:07<00:00,  1.56s/it]\n",
            "100%|██████████| 5/5 [00:02<00:00,  1.72it/s]\n"
          ]
        },
        {
          "output_type": "stream",
          "name": "stdout",
          "text": [
            "Epoch: 165 | Epoch Time: 0m 10s\n",
            "\tTrain Loss: 0.319\n",
            "\t Val. Loss: 0.505\n",
            "\n"
          ]
        },
        {
          "output_type": "stream",
          "name": "stderr",
          "text": [
            "100%|██████████| 5/5 [00:07<00:00,  1.56s/it]\n",
            "100%|██████████| 5/5 [00:02<00:00,  1.74it/s]\n"
          ]
        },
        {
          "output_type": "stream",
          "name": "stdout",
          "text": [
            "Epoch: 166 | Epoch Time: 0m 10s\n",
            "\tTrain Loss: 0.319\n",
            "\t Val. Loss: 0.508\n",
            "\n"
          ]
        },
        {
          "output_type": "stream",
          "name": "stderr",
          "text": [
            "100%|██████████| 5/5 [00:07<00:00,  1.56s/it]\n",
            "100%|██████████| 5/5 [00:02<00:00,  1.71it/s]\n"
          ]
        },
        {
          "output_type": "stream",
          "name": "stdout",
          "text": [
            "Valid loss improved from 0.5051 to 0.503523\n",
            "Epoch: 167 | Epoch Time: 0m 11s\n",
            "\tTrain Loss: 0.317\n",
            "\t Val. Loss: 0.504\n",
            "\n"
          ]
        },
        {
          "output_type": "stream",
          "name": "stderr",
          "text": [
            "100%|██████████| 5/5 [00:07<00:00,  1.57s/it]\n",
            "100%|██████████| 5/5 [00:02<00:00,  1.72it/s]\n"
          ]
        },
        {
          "output_type": "stream",
          "name": "stdout",
          "text": [
            "Epoch: 168 | Epoch Time: 0m 10s\n",
            "\tTrain Loss: 0.315\n",
            "\t Val. Loss: 0.504\n",
            "\n"
          ]
        },
        {
          "output_type": "stream",
          "name": "stderr",
          "text": [
            "100%|██████████| 5/5 [00:07<00:00,  1.56s/it]\n",
            "100%|██████████| 5/5 [00:02<00:00,  1.73it/s]\n"
          ]
        },
        {
          "output_type": "stream",
          "name": "stdout",
          "text": [
            "Epoch: 169 | Epoch Time: 0m 10s\n",
            "\tTrain Loss: 0.314\n",
            "\t Val. Loss: 0.507\n",
            "\n"
          ]
        },
        {
          "output_type": "stream",
          "name": "stderr",
          "text": [
            "100%|██████████| 5/5 [00:07<00:00,  1.56s/it]\n",
            "100%|██████████| 5/5 [00:02<00:00,  1.72it/s]\n"
          ]
        },
        {
          "output_type": "stream",
          "name": "stdout",
          "text": [
            "Valid loss improved from 0.5035 to 0.502259\n",
            "Epoch: 170 | Epoch Time: 0m 11s\n",
            "\tTrain Loss: 0.312\n",
            "\t Val. Loss: 0.502\n",
            "\n"
          ]
        },
        {
          "output_type": "stream",
          "name": "stderr",
          "text": [
            "100%|██████████| 5/5 [00:07<00:00,  1.56s/it]\n",
            "100%|██████████| 5/5 [00:02<00:00,  1.74it/s]\n"
          ]
        },
        {
          "output_type": "stream",
          "name": "stdout",
          "text": [
            "Valid loss improved from 0.5023 to 0.500261\n",
            "Epoch: 171 | Epoch Time: 0m 11s\n",
            "\tTrain Loss: 0.310\n",
            "\t Val. Loss: 0.500\n",
            "\n"
          ]
        },
        {
          "output_type": "stream",
          "name": "stderr",
          "text": [
            "100%|██████████| 5/5 [00:07<00:00,  1.56s/it]\n",
            "100%|██████████| 5/5 [00:02<00:00,  1.74it/s]\n"
          ]
        },
        {
          "output_type": "stream",
          "name": "stdout",
          "text": [
            "Valid loss improved from 0.5003 to 0.499094\n",
            "Epoch: 172 | Epoch Time: 0m 10s\n",
            "\tTrain Loss: 0.309\n",
            "\t Val. Loss: 0.499\n",
            "\n"
          ]
        },
        {
          "output_type": "stream",
          "name": "stderr",
          "text": [
            "100%|██████████| 5/5 [00:07<00:00,  1.56s/it]\n",
            "100%|██████████| 5/5 [00:02<00:00,  1.74it/s]\n"
          ]
        },
        {
          "output_type": "stream",
          "name": "stdout",
          "text": [
            "Epoch: 173 | Epoch Time: 0m 10s\n",
            "\tTrain Loss: 0.307\n",
            "\t Val. Loss: 0.500\n",
            "\n"
          ]
        },
        {
          "output_type": "stream",
          "name": "stderr",
          "text": [
            "100%|██████████| 5/5 [00:07<00:00,  1.56s/it]\n",
            "100%|██████████| 5/5 [00:02<00:00,  1.74it/s]\n"
          ]
        },
        {
          "output_type": "stream",
          "name": "stdout",
          "text": [
            "Valid loss improved from 0.4991 to 0.494406\n",
            "Epoch: 174 | Epoch Time: 0m 10s\n",
            "\tTrain Loss: 0.306\n",
            "\t Val. Loss: 0.494\n",
            "\n"
          ]
        },
        {
          "output_type": "stream",
          "name": "stderr",
          "text": [
            "100%|██████████| 5/5 [00:07<00:00,  1.56s/it]\n",
            "100%|██████████| 5/5 [00:02<00:00,  1.73it/s]\n"
          ]
        },
        {
          "output_type": "stream",
          "name": "stdout",
          "text": [
            "Epoch: 175 | Epoch Time: 0m 10s\n",
            "\tTrain Loss: 0.304\n",
            "\t Val. Loss: 0.504\n",
            "\n"
          ]
        },
        {
          "output_type": "stream",
          "name": "stderr",
          "text": [
            "100%|██████████| 5/5 [00:07<00:00,  1.56s/it]\n",
            "100%|██████████| 5/5 [00:02<00:00,  1.69it/s]\n"
          ]
        },
        {
          "output_type": "stream",
          "name": "stdout",
          "text": [
            "Epoch: 176 | Epoch Time: 0m 10s\n",
            "\tTrain Loss: 0.304\n",
            "\t Val. Loss: 0.498\n",
            "\n"
          ]
        },
        {
          "output_type": "stream",
          "name": "stderr",
          "text": [
            "100%|██████████| 5/5 [00:07<00:00,  1.56s/it]\n",
            "100%|██████████| 5/5 [00:02<00:00,  1.71it/s]\n"
          ]
        },
        {
          "output_type": "stream",
          "name": "stdout",
          "text": [
            "Valid loss improved from 0.4944 to 0.492571\n",
            "Epoch: 177 | Epoch Time: 0m 11s\n",
            "\tTrain Loss: 0.302\n",
            "\t Val. Loss: 0.493\n",
            "\n"
          ]
        },
        {
          "output_type": "stream",
          "name": "stderr",
          "text": [
            "100%|██████████| 5/5 [00:07<00:00,  1.56s/it]\n",
            "100%|██████████| 5/5 [00:02<00:00,  1.73it/s]\n"
          ]
        },
        {
          "output_type": "stream",
          "name": "stdout",
          "text": [
            "Epoch: 178 | Epoch Time: 0m 10s\n",
            "\tTrain Loss: 0.300\n",
            "\t Val. Loss: 0.498\n",
            "\n"
          ]
        },
        {
          "output_type": "stream",
          "name": "stderr",
          "text": [
            "100%|██████████| 5/5 [00:07<00:00,  1.56s/it]\n",
            "100%|██████████| 5/5 [00:02<00:00,  1.73it/s]\n"
          ]
        },
        {
          "output_type": "stream",
          "name": "stdout",
          "text": [
            "Valid loss improved from 0.4926 to 0.491388\n",
            "Epoch: 179 | Epoch Time: 0m 11s\n",
            "\tTrain Loss: 0.299\n",
            "\t Val. Loss: 0.491\n",
            "\n"
          ]
        },
        {
          "output_type": "stream",
          "name": "stderr",
          "text": [
            "100%|██████████| 5/5 [00:07<00:00,  1.56s/it]\n",
            "100%|██████████| 5/5 [00:02<00:00,  1.74it/s]\n"
          ]
        },
        {
          "output_type": "stream",
          "name": "stdout",
          "text": [
            "Valid loss improved from 0.4914 to 0.490663\n",
            "Epoch: 180 | Epoch Time: 0m 10s\n",
            "\tTrain Loss: 0.298\n",
            "\t Val. Loss: 0.491\n",
            "\n"
          ]
        },
        {
          "output_type": "stream",
          "name": "stderr",
          "text": [
            "100%|██████████| 5/5 [00:07<00:00,  1.56s/it]\n",
            "100%|██████████| 5/5 [00:02<00:00,  1.74it/s]\n"
          ]
        },
        {
          "output_type": "stream",
          "name": "stdout",
          "text": [
            "Epoch: 181 | Epoch Time: 0m 10s\n",
            "\tTrain Loss: 0.296\n",
            "\t Val. Loss: 0.493\n",
            "\n"
          ]
        },
        {
          "output_type": "stream",
          "name": "stderr",
          "text": [
            "100%|██████████| 5/5 [00:07<00:00,  1.56s/it]\n",
            "100%|██████████| 5/5 [00:02<00:00,  1.74it/s]\n"
          ]
        },
        {
          "output_type": "stream",
          "name": "stdout",
          "text": [
            "Epoch: 182 | Epoch Time: 0m 10s\n",
            "\tTrain Loss: 0.295\n",
            "\t Val. Loss: 0.493\n",
            "\n"
          ]
        },
        {
          "output_type": "stream",
          "name": "stderr",
          "text": [
            "100%|██████████| 5/5 [00:07<00:00,  1.56s/it]\n",
            "100%|██████████| 5/5 [00:02<00:00,  1.74it/s]\n"
          ]
        },
        {
          "output_type": "stream",
          "name": "stdout",
          "text": [
            "Valid loss improved from 0.4907 to 0.487673\n",
            "Epoch: 183 | Epoch Time: 0m 10s\n",
            "\tTrain Loss: 0.294\n",
            "\t Val. Loss: 0.488\n",
            "\n"
          ]
        },
        {
          "output_type": "stream",
          "name": "stderr",
          "text": [
            "100%|██████████| 5/5 [00:07<00:00,  1.55s/it]\n",
            "100%|██████████| 5/5 [00:02<00:00,  1.75it/s]\n"
          ]
        },
        {
          "output_type": "stream",
          "name": "stdout",
          "text": [
            "Epoch: 184 | Epoch Time: 0m 10s\n",
            "\tTrain Loss: 0.292\n",
            "\t Val. Loss: 0.491\n",
            "\n"
          ]
        },
        {
          "output_type": "stream",
          "name": "stderr",
          "text": [
            "100%|██████████| 5/5 [00:07<00:00,  1.56s/it]\n",
            "100%|██████████| 5/5 [00:02<00:00,  1.71it/s]\n"
          ]
        },
        {
          "output_type": "stream",
          "name": "stdout",
          "text": [
            "Valid loss improved from 0.4877 to 0.484276\n",
            "Epoch: 185 | Epoch Time: 0m 11s\n",
            "\tTrain Loss: 0.290\n",
            "\t Val. Loss: 0.484\n",
            "\n"
          ]
        },
        {
          "output_type": "stream",
          "name": "stderr",
          "text": [
            "100%|██████████| 5/5 [00:07<00:00,  1.55s/it]\n",
            "100%|██████████| 5/5 [00:02<00:00,  1.72it/s]\n"
          ]
        },
        {
          "output_type": "stream",
          "name": "stdout",
          "text": [
            "Valid loss improved from 0.4843 to 0.484216\n",
            "Epoch: 186 | Epoch Time: 0m 11s\n",
            "\tTrain Loss: 0.291\n",
            "\t Val. Loss: 0.484\n",
            "\n"
          ]
        },
        {
          "output_type": "stream",
          "name": "stderr",
          "text": [
            "100%|██████████| 5/5 [00:07<00:00,  1.56s/it]\n",
            "100%|██████████| 5/5 [00:02<00:00,  1.73it/s]\n"
          ]
        },
        {
          "output_type": "stream",
          "name": "stdout",
          "text": [
            "Epoch: 187 | Epoch Time: 0m 10s\n",
            "\tTrain Loss: 0.288\n",
            "\t Val. Loss: 0.490\n",
            "\n"
          ]
        },
        {
          "output_type": "stream",
          "name": "stderr",
          "text": [
            "100%|██████████| 5/5 [00:07<00:00,  1.56s/it]\n",
            "100%|██████████| 5/5 [00:02<00:00,  1.74it/s]\n"
          ]
        },
        {
          "output_type": "stream",
          "name": "stdout",
          "text": [
            "Valid loss improved from 0.4842 to 0.479785\n",
            "Epoch: 188 | Epoch Time: 0m 11s\n",
            "\tTrain Loss: 0.288\n",
            "\t Val. Loss: 0.480\n",
            "\n"
          ]
        },
        {
          "output_type": "stream",
          "name": "stderr",
          "text": [
            "100%|██████████| 5/5 [00:07<00:00,  1.56s/it]\n",
            "100%|██████████| 5/5 [00:02<00:00,  1.74it/s]\n"
          ]
        },
        {
          "output_type": "stream",
          "name": "stdout",
          "text": [
            "Epoch: 189 | Epoch Time: 0m 10s\n",
            "\tTrain Loss: 0.286\n",
            "\t Val. Loss: 0.486\n",
            "\n"
          ]
        },
        {
          "output_type": "stream",
          "name": "stderr",
          "text": [
            "100%|██████████| 5/5 [00:07<00:00,  1.56s/it]\n",
            "100%|██████████| 5/5 [00:02<00:00,  1.74it/s]\n"
          ]
        },
        {
          "output_type": "stream",
          "name": "stdout",
          "text": [
            "Epoch: 190 | Epoch Time: 0m 10s\n",
            "\tTrain Loss: 0.284\n",
            "\t Val. Loss: 0.485\n",
            "\n"
          ]
        },
        {
          "output_type": "stream",
          "name": "stderr",
          "text": [
            "100%|██████████| 5/5 [00:07<00:00,  1.56s/it]\n",
            "100%|██████████| 5/5 [00:02<00:00,  1.74it/s]\n"
          ]
        },
        {
          "output_type": "stream",
          "name": "stdout",
          "text": [
            "Epoch: 191 | Epoch Time: 0m 10s\n",
            "\tTrain Loss: 0.282\n",
            "\t Val. Loss: 0.482\n",
            "\n"
          ]
        },
        {
          "output_type": "stream",
          "name": "stderr",
          "text": [
            "100%|██████████| 5/5 [00:07<00:00,  1.56s/it]\n",
            "100%|██████████| 5/5 [00:02<00:00,  1.71it/s]\n"
          ]
        },
        {
          "output_type": "stream",
          "name": "stdout",
          "text": [
            "Epoch: 192 | Epoch Time: 0m 10s\n",
            "\tTrain Loss: 0.282\n",
            "\t Val. Loss: 0.480\n",
            "\n"
          ]
        },
        {
          "output_type": "stream",
          "name": "stderr",
          "text": [
            "100%|██████████| 5/5 [00:07<00:00,  1.56s/it]\n",
            "100%|██████████| 5/5 [00:02<00:00,  1.72it/s]\n"
          ]
        },
        {
          "output_type": "stream",
          "name": "stdout",
          "text": [
            "Epoch: 193 | Epoch Time: 0m 10s\n",
            "\tTrain Loss: 0.281\n",
            "\t Val. Loss: 0.482\n",
            "\n"
          ]
        },
        {
          "output_type": "stream",
          "name": "stderr",
          "text": [
            "100%|██████████| 5/5 [00:07<00:00,  1.56s/it]\n",
            "100%|██████████| 5/5 [00:02<00:00,  1.73it/s]\n"
          ]
        },
        {
          "output_type": "stream",
          "name": "stdout",
          "text": [
            "Valid loss improved from 0.4798 to 0.477054\n",
            "Epoch: 194 | Epoch Time: 0m 11s\n",
            "\tTrain Loss: 0.279\n",
            "\t Val. Loss: 0.477\n",
            "\n"
          ]
        },
        {
          "output_type": "stream",
          "name": "stderr",
          "text": [
            "100%|██████████| 5/5 [00:07<00:00,  1.56s/it]\n",
            "100%|██████████| 5/5 [00:02<00:00,  1.73it/s]\n"
          ]
        },
        {
          "output_type": "stream",
          "name": "stdout",
          "text": [
            "Epoch: 195 | Epoch Time: 0m 10s\n",
            "\tTrain Loss: 0.279\n",
            "\t Val. Loss: 0.478\n",
            "\n"
          ]
        },
        {
          "output_type": "stream",
          "name": "stderr",
          "text": [
            "100%|██████████| 5/5 [00:07<00:00,  1.56s/it]\n",
            "100%|██████████| 5/5 [00:02<00:00,  1.73it/s]\n"
          ]
        },
        {
          "output_type": "stream",
          "name": "stdout",
          "text": [
            "Epoch: 196 | Epoch Time: 0m 10s\n",
            "\tTrain Loss: 0.277\n",
            "\t Val. Loss: 0.479\n",
            "\n"
          ]
        },
        {
          "output_type": "stream",
          "name": "stderr",
          "text": [
            "100%|██████████| 5/5 [00:07<00:00,  1.57s/it]\n",
            "100%|██████████| 5/5 [00:02<00:00,  1.74it/s]\n"
          ]
        },
        {
          "output_type": "stream",
          "name": "stdout",
          "text": [
            "Valid loss improved from 0.4771 to 0.475726\n",
            "Epoch: 197 | Epoch Time: 0m 11s\n",
            "\tTrain Loss: 0.276\n",
            "\t Val. Loss: 0.476\n",
            "\n"
          ]
        },
        {
          "output_type": "stream",
          "name": "stderr",
          "text": [
            "100%|██████████| 5/5 [00:07<00:00,  1.56s/it]\n",
            "100%|██████████| 5/5 [00:02<00:00,  1.74it/s]\n"
          ]
        },
        {
          "output_type": "stream",
          "name": "stdout",
          "text": [
            "Epoch: 198 | Epoch Time: 0m 10s\n",
            "\tTrain Loss: 0.274\n",
            "\t Val. Loss: 0.477\n",
            "\n"
          ]
        },
        {
          "output_type": "stream",
          "name": "stderr",
          "text": [
            "100%|██████████| 5/5 [00:07<00:00,  1.55s/it]\n",
            "100%|██████████| 5/5 [00:02<00:00,  1.74it/s]\n"
          ]
        },
        {
          "output_type": "stream",
          "name": "stdout",
          "text": [
            "Epoch: 199 | Epoch Time: 0m 10s\n",
            "\tTrain Loss: 0.273\n",
            "\t Val. Loss: 0.476\n",
            "\n"
          ]
        },
        {
          "output_type": "stream",
          "name": "stderr",
          "text": [
            "100%|██████████| 5/5 [00:07<00:00,  1.56s/it]\n",
            "100%|██████████| 5/5 [00:02<00:00,  1.74it/s]\n"
          ]
        },
        {
          "output_type": "stream",
          "name": "stdout",
          "text": [
            "Valid loss improved from 0.4757 to 0.472349\n",
            "Epoch: 200 | Epoch Time: 0m 10s\n",
            "\tTrain Loss: 0.271\n",
            "\t Val. Loss: 0.472\n",
            "\n"
          ]
        }
      ]
    },
    {
      "cell_type": "markdown",
      "source": [
        "**CHECKING ACCURACY**"
      ],
      "metadata": {
        "id": "4qHYheWYHfOz"
      }
    },
    {
      "cell_type": "code",
      "source": [
        "def mask_parse(mask):\n",
        "    mask = np.expand_dims(mask, axis=-1)    ## (512, 512, 1)\n",
        "    mask = np.concatenate([mask, mask, mask], axis=-1)  ## (512, 512, 3)\n",
        "    return mask\n",
        "\n",
        "if __name__ == \"__main__\":\n",
        "\n",
        "    jaccard_store = []\n",
        "    precision_store = []\n",
        "    f1_store = []\n",
        "    recall_store = []\n",
        "    acc_store = []\n",
        "    test_epoch_count = []\n",
        "    ##Seeding \n",
        "    seeding(42)\n",
        "\n",
        "    ##Folders\n",
        "    create_dir(\"results\")\n",
        "\n",
        "    ##Load dataset \n",
        "    test_x = sorted(glob(\"/content/new_data/test/image/*\"))\n",
        "    test_y = sorted(glob(\"/content/new_data/test/mask/*\"))\n",
        "\n",
        "    ##Hyperparameters \n",
        "    H = 512\n",
        "    W = 512\n",
        "    size = (W, H)\n",
        "    checkpoint_path = \"files/checkpoint.pth\"\n",
        "\n",
        "    ##Load the checkpoint \n",
        "    device = torch.device('cuda' if torch.cuda.is_available() else 'cpu')\n",
        "\n",
        "    model = build_unet()\n",
        "    model = model.to(device)\n",
        "    model.load_state_dict(torch.load(checkpoint_path, map_location=device))\n",
        "    model.eval()\n",
        "\n",
        "    metrics_score = [0.0, 0.0, 0.0, 0.0, 0.0]\n",
        "    time_taken = []\n",
        "\n",
        "    for i, (x, y) in tqdm(enumerate(zip(test_x, test_y)), total=len(test_x)):\n",
        "        ##Extract the name \n",
        "        name = x.split(\"/\")[-1].split(\".\")[0]\n",
        "\n",
        "        ##Reading image \n",
        "        image = cv2.imread(x, cv2.IMREAD_COLOR) ## (512, 512, 3)\n",
        "        ## image = cv2.resize(image, size)\n",
        "        x = np.transpose(image, (2, 0, 1))      ## (3, 512, 512)\n",
        "        x = x/255.0\n",
        "        x = np.expand_dims(x, axis=0)           ## (1, 3, 512, 512)\n",
        "        x = x.astype(np.float32)\n",
        "        x = torch.from_numpy(x)\n",
        "        x = x.to(device)\n",
        "\n",
        "        ##Reading mask \n",
        "        mask = cv2.imread(y, cv2.IMREAD_GRAYSCALE)  ## (512, 512)\n",
        "        ## mask = cv2.resize(mask, size)\n",
        "        y = np.expand_dims(mask, axis=0)            ## (1, 512, 512)\n",
        "        y = y/255.0\n",
        "        y = np.expand_dims(y, axis=0)               ## (1, 1, 512, 512)\n",
        "        y = y.astype(np.float32)\n",
        "        y = torch.from_numpy(y)\n",
        "        y = y.to(device)\n",
        "\n",
        "        with torch.no_grad():\n",
        "            ##Prediction and Calculating FPS \n",
        "            start_time = time.time()\n",
        "            pred_y = model(x)\n",
        "            pred_y = torch.sigmoid(pred_y)\n",
        "            total_time = time.time() - start_time\n",
        "            time_taken.append(total_time)\n",
        "\n",
        "\n",
        "            score = calculate_metrics(y, pred_y, type=\"All\")\n",
        "            metrics_score = list(map(add, metrics_score, score))\n",
        "            pred_y = pred_y[0].cpu().numpy()        ## (1, 512, 512)\n",
        "            pred_y = np.squeeze(pred_y, axis=0)     ## (512, 512)\n",
        "            pred_y = pred_y > 0.5\n",
        "            pred_y = np.array(pred_y, dtype=np.uint8)\n",
        "\n",
        "        ##Saving masks \n",
        "        ori_mask = mask_parse(mask)\n",
        "        pred_y = mask_parse(pred_y)\n",
        "        line = np.ones((size[1], 10, 3)) * 128\n",
        "\n",
        "        cat_images = np.concatenate(\n",
        "            [image, line, ori_mask, line, pred_y * 255], axis=1\n",
        "        )\n",
        "        cv2.imwrite(f\"results/{name}.png\", cat_images)\n",
        "\n",
        "        #Calculate the metrics for each batch\n",
        "        jaccard = score[0]\n",
        "        precision = score[3]\n",
        "        recall= score[2]\n",
        "        f1 = score[1]\n",
        "        acc = score[4]\n",
        "\n",
        "        #Store in the list\n",
        "        jaccard_store.append(jaccard)\n",
        "        precision_store.append(precision)\n",
        "        f1_store.append(f1)\n",
        "        recall_store.append(f1)\n",
        "        acc_store.append(f1)\n",
        "        test_epoch_count.append(i)\n",
        "\n",
        "    jaccard = metrics_score[0]/len(test_x)\n",
        "    f1 = metrics_score[1]/len(test_x)\n",
        "    recall = metrics_score[2]/len(test_x)\n",
        "    precision = metrics_score[3]/len(test_x)\n",
        "    acc = metrics_score[4]/len(test_x)\n",
        "    print(f\"Jaccard: {jaccard:1.4f} - F1: {f1:1.4f} - Recall: {recall:1.4f} - Precision: {precision:1.4f} - Acc: {acc:1.4f}\")\n",
        "\n",
        "    fps = 1/np.mean(time_taken)\n",
        "    print(\"FPS: \", fps)"
      ],
      "metadata": {
        "id": "IBPnv4zVX8As",
        "colab": {
          "base_uri": "https://localhost:8080/"
        },
        "outputId": "dc36c443-719f-4f10-a9ac-e90588e730ef"
      },
      "execution_count": 76,
      "outputs": [
        {
          "output_type": "stream",
          "name": "stderr",
          "text": [
            "100%|██████████| 20/20 [00:07<00:00,  2.59it/s]"
          ]
        },
        {
          "output_type": "stream",
          "name": "stdout",
          "text": [
            "Jaccard: 0.6364 - F1: 0.7775 - Recall: 0.7441 - Precision: 0.8206 - Acc: 0.9631\n",
            "FPS:  135.3278494143155\n"
          ]
        },
        {
          "output_type": "stream",
          "name": "stderr",
          "text": [
            "\n"
          ]
        }
      ]
    },
    {
      "cell_type": "code",
      "source": [
        "jaccard_store"
      ],
      "metadata": {
        "id": "Y48mp1WD-k5d",
        "outputId": "f4647bc3-a192-4f22-ce9e-2a32b6c0cab6",
        "colab": {
          "base_uri": "https://localhost:8080/"
        }
      },
      "execution_count": 77,
      "outputs": [
        {
          "output_type": "execute_result",
          "data": {
            "text/plain": [
              "[0.6520478177831223,\n",
              " 0.6916222193313386,\n",
              " 0.5727259776337346,\n",
              " 0.6655655876091904,\n",
              " 0.6258922533623864,\n",
              " 0.612839981463658,\n",
              " 0.6455229330996202,\n",
              " 0.5985901779802937,\n",
              " 0.5927288280581694,\n",
              " 0.6440468600573797,\n",
              " 0.6318637992831542,\n",
              " 0.6414856662976677,\n",
              " 0.637177007047119,\n",
              " 0.6444901691815272,\n",
              " 0.6234998144100301,\n",
              " 0.6500958790115416,\n",
              " 0.6158339253295445,\n",
              " 0.6525437076704993,\n",
              " 0.6865378922439314,\n",
              " 0.6436599122623773]"
            ]
          },
          "metadata": {},
          "execution_count": 77
        }
      ]
    },
    {
      "cell_type": "code",
      "source": [
        "recall_store"
      ],
      "metadata": {
        "id": "WKxe-Sy--pt3",
        "outputId": "1b0eb2ae-5d32-408b-bbcc-5a48b390e325",
        "colab": {
          "base_uri": "https://localhost:8080/"
        }
      },
      "execution_count": 78,
      "outputs": [
        {
          "output_type": "execute_result",
          "data": {
            "text/plain": [
              "[0.7893812888032541,\n",
              " 0.8177029261352713,\n",
              " 0.7283226522339727,\n",
              " 0.7992066989863377,\n",
              " 0.7699061879014742,\n",
              " 0.7599513758426345,\n",
              " 0.7845809014447083,\n",
              " 0.7488976051843009,\n",
              " 0.7442934636661476,\n",
              " 0.7834896628614364,\n",
              " 0.7744075204814513,\n",
              " 0.7815915538812148,\n",
              " 0.7783849935644505,\n",
              " 0.7838176004448769,\n",
              " 0.7680934840594437,\n",
              " 0.7879492183217489,\n",
              " 0.7622490352205559,\n",
              " 0.7897445672893634,\n",
              " 0.814138710314413,\n",
              " 0.7832032739381306]"
            ]
          },
          "metadata": {},
          "execution_count": 78
        }
      ]
    },
    {
      "cell_type": "code",
      "source": [
        "import numpy as np\n",
        "import matplotlib.pyplot as plt\n",
        "def plot_items(x,y,xlabel,ylabel,label,title):\n",
        "  plt.plot(x, np.array(y), label=label)\n",
        "  plt.title(title)\n",
        "  plt.ylabel(ylabel)\n",
        "  plt.xlabel(xlabel)\n",
        "  plt.legend()"
      ],
      "metadata": {
        "id": "4s1Hl2kp-CvE"
      },
      "execution_count": 79,
      "outputs": []
    },
    {
      "cell_type": "code",
      "source": [
        "plot_items(np.array(epoch_count), np.array(loss_store),\"Epochs\",\"Loss\",\"Train Loss\",\"Training Loss\")"
      ],
      "metadata": {
        "id": "1r9r2XeiWdUz",
        "colab": {
          "base_uri": "https://localhost:8080/",
          "height": 295
        },
        "outputId": "b2913633-f0b8-4060-d00d-890b59b2f5ce"
      },
      "execution_count": 80,
      "outputs": [
        {
          "output_type": "display_data",
          "data": {
            "text/plain": [
              "<Figure size 432x288 with 1 Axes>"
            ],
            "image/png": "[encoded data removed]"
          },
          "metadata": {
            "needs_background": "light"
          }
        }
      ]
    },
    {
      "cell_type": "code",
      "source": [
        "plot_items(np.array(epoch_count), np.array(val_loss_store),\"Epochs\",\"Loss\",\"Validation Loss\",\"Validation Loss\")"
      ],
      "metadata": {
        "id": "Bo3kZK_QkQiE",
        "colab": {
          "base_uri": "https://localhost:8080/",
          "height": 295
        },
        "outputId": "f62498fc-f714-4e1a-9e62-aee089b3b64b"
      },
      "execution_count": 81,
      "outputs": [
        {
          "output_type": "display_data",
          "data": {
            "text/plain": [
              "<Figure size 432x288 with 1 Axes>"
            ],
            "image/png": "[encoded data removed]"
          },
          "metadata": {
            "needs_background": "light"
          }
        }
      ]
    },
    {
      "cell_type": "code",
      "source": [
        "plt.plot(epoch_count, np.array(loss_store), label=\"Train Loss\")\n",
        "plt.plot(epoch_count, np.array(val_loss_store), label = \"Validation Loss\")\n",
        "plt.title(\"Train and Validation loss curves\")\n",
        "plt.ylabel(\"Loss\")\n",
        "plt.xlabel(\"Epoch\")\n",
        "plt.legend()"
      ],
      "metadata": {
        "colab": {
          "base_uri": "https://localhost:8080/",
          "height": 312
        },
        "id": "ivco7kwX7kBa",
        "outputId": "8b1f277b-07ea-436b-8e77-df1263716a44"
      },
      "execution_count": 82,
      "outputs": [
        {
          "output_type": "execute_result",
          "data": {
            "text/plain": [
              "<matplotlib.legend.Legend at 0x7fcf7ce3ddc0>"
            ]
          },
          "metadata": {},
          "execution_count": 82
        },
        {
          "output_type": "display_data",
          "data": {
            "text/plain": [
              "<Figure size 432x288 with 1 Axes>"
            ],
            "image/png": "[encoded data removed]"
          },
          "metadata": {
            "needs_background": "light"
          }
        }
      ]
    },
    {
      "cell_type": "code",
      "source": [
        "np.array(acc_store).shape"
      ],
      "metadata": {
        "colab": {
          "base_uri": "https://localhost:8080/"
        },
        "id": "nAvMcryH8QDZ",
        "outputId": "4589fb96-bcce-4454-a8aa-7728d22bc44c"
      },
      "execution_count": 83,
      "outputs": [
        {
          "output_type": "execute_result",
          "data": {
            "text/plain": [
              "(20,)"
            ]
          },
          "metadata": {},
          "execution_count": 83
        }
      ]
    },
    {
      "cell_type": "code",
      "source": [
        "plot_items(np.array(test_epoch_count), np.array(acc_store),\"Epochs\",\"Accuracy\",\"Validation Acc\",\"Validation Accuracy\")"
      ],
      "metadata": {
        "colab": {
          "base_uri": "https://localhost:8080/",
          "height": 295
        },
        "id": "xpx12_lT78xM",
        "outputId": "131ba9a2-27e6-4ac5-bfac-f989223aabcf"
      },
      "execution_count": 84,
      "outputs": [
        {
          "output_type": "display_data",
          "data": {
            "text/plain": [
              "<Figure size 432x288 with 1 Axes>"
            ],
            "image/png": "[encoded data removed]"
          },
          "metadata": {
            "needs_background": "light"
          }
        }
      ]
    },
    {
      "cell_type": "code",
      "source": [
        "plot_items(np.array(test_epoch_count), np.array(precision_store),\"Epochs\",\"Accuracy\",\"Validation precision\",\"Validation Precision\")"
      ],
      "metadata": {
        "colab": {
          "base_uri": "https://localhost:8080/",
          "height": 295
        },
        "id": "SiKsu7Zw8KqY",
        "outputId": "7839094d-a92d-4fd2-9bef-93a351d8458b"
      },
      "execution_count": 85,
      "outputs": [
        {
          "output_type": "display_data",
          "data": {
            "text/plain": [
              "<Figure size 432x288 with 1 Axes>"
            ],
            "image/png": "[encoded data removed]"
          },
          "metadata": {
            "needs_background": "light"
          }
        }
      ]
    },
    {
      "cell_type": "code",
      "source": [
        "plot_items(np.array(test_epoch_count), np.array(jaccard_store),\"Epochs\",\"Jaccard\",\"Validation jaccard\",\"Validation Jaccard\")"
      ],
      "metadata": {
        "colab": {
          "base_uri": "https://localhost:8080/",
          "height": 295
        },
        "id": "fHDMzePb9We_",
        "outputId": "c3647779-814e-4b94-e260-707062566dd9"
      },
      "execution_count": 86,
      "outputs": [
        {
          "output_type": "display_data",
          "data": {
            "text/plain": [
              "<Figure size 432x288 with 1 Axes>"
            ],
            "image/png": "[encoded data removed]"
          },
          "metadata": {
            "needs_background": "light"
          }
        }
      ]
    },
    {
      "cell_type": "code",
      "source": [
        "plot_items(np.array(test_epoch_count), np.array(f1_store),\"Epochs\",\"F1\",\"Validation F1\",\"Validation F1\")"
      ],
      "metadata": {
        "colab": {
          "base_uri": "https://localhost:8080/",
          "height": 295
        },
        "id": "9ErytsX99YUO",
        "outputId": "2cd1c65c-20c0-43a8-aac8-c88ecb778e92"
      },
      "execution_count": 87,
      "outputs": [
        {
          "output_type": "display_data",
          "data": {
            "text/plain": [
              "<Figure size 432x288 with 1 Axes>"
            ],
            "image/png": "[encoded data removed]"
          },
          "metadata": {
            "needs_background": "light"
          }
        }
      ]
    },
    {
      "cell_type": "code",
      "source": [
        "plot_items(np.array(test_epoch_count), np.array(recall_store),\"Epochs\",\"Recall\",\"Recall\",\"Validation Recall\")"
      ],
      "metadata": {
        "colab": {
          "base_uri": "https://localhost:8080/",
          "height": 295
        },
        "id": "FaVvkVNk9Z-_",
        "outputId": "3b03a5ff-8658-4545-a37c-e3aa60518e04"
      },
      "execution_count": 88,
      "outputs": [
        {
          "output_type": "display_data",
          "data": {
            "text/plain": [
              "<Figure size 432x288 with 1 Axes>"
            ],
            "image/png": "[encoded data removed]"
          },
          "metadata": {
            "needs_background": "light"
          }
        }
      ]
    },
    {
      "cell_type": "code",
      "source": [
        "plot_items(np.array(test_epoch_count), np.array(recall_store),\"Epochs\",\"Recall\",\"Recall\",\"Recall vs Precision\")\n",
        "plot_items(np.array(test_epoch_count), np.array(precision_store),\"Epochs\",\"Precision\",\"Precision\",\"Recall vs Precision\")"
      ],
      "metadata": {
        "colab": {
          "base_uri": "https://localhost:8080/",
          "height": 295
        },
        "id": "CGhTvDDq9amI",
        "outputId": "9b9ccf9b-3339-4027-835a-c186fb5106bb"
      },
      "execution_count": 89,
      "outputs": [
        {
          "output_type": "display_data",
          "data": {
            "text/plain": [
              "<Figure size 432x288 with 1 Axes>"
            ],
            "image/png": "[encoded data removed]"
          },
          "metadata": {
            "needs_background": "light"
          }
        }
      ]
    },
    {
      "cell_type": "code",
      "source": [
        "plot_items(np.array(test_epoch_count), np.array(jaccard_store),\"Epochs\",\"Jaccard\",\"Jaccard\",\"Jaccard and F1\")\n",
        "plot_items(np.array(test_epoch_count), np.array(f1_store),\"Epochs\",\"F1\",\"F1\",\"Jaccard and F1\")"
      ],
      "metadata": {
        "colab": {
          "base_uri": "https://localhost:8080/",
          "height": 295
        },
        "id": "1GPg_2HK9oJA",
        "outputId": "9218f30f-ed95-4a8a-c35a-d7ff13fd4b02"
      },
      "execution_count": 90,
      "outputs": [
        {
          "output_type": "display_data",
          "data": {
            "text/plain": [
              "<Figure size 432x288 with 1 Axes>"
            ],
            "image/png": "[encoded data removed]"
          },
          "metadata": {
            "needs_background": "light"
          }
        }
      ]
    },
    {
      "cell_type": "code",
      "source": [
        "plot_items(np.array(test_epoch_count), np.array(recall_store),\"Epochs\",\"Recall, Precision, Jaccard, F1\",\"Recall\",\"Recall vs Precision vs Jaccard vs F1\")\n",
        "plot_items(np.array(test_epoch_count), np.array(precision_store),\"Epochs\",\"Recall, Precision, Jaccard, F1\",\"Precision\",\"Recall vs Precision vs Jaccard vs F1\")\n",
        "plot_items(np.array(test_epoch_count), np.array(jaccard_store),\"Epochs\",\"Recall, Precision, Jaccard, F1\",\"Jaccard\",\"Recall vs Precision vs Jaccard vs F1\")\n",
        "plot_items(np.array(test_epoch_count), np.array(f1_store),\"Epochs\",\"Recall, Precision, Jaccard, F1\",\"F1\",\"Recall vs Precision vs Jaccard vs F1\")"
      ],
      "metadata": {
        "id": "m6yaWJoO_2Ur",
        "outputId": "f62983b7-6189-4447-d48a-200f08e13435",
        "colab": {
          "base_uri": "https://localhost:8080/",
          "height": 295
        }
      },
      "execution_count": 91,
      "outputs": [
        {
          "output_type": "display_data",
          "data": {
            "text/plain": [
              "<Figure size 432x288 with 1 Axes>"
            ],
            "image/png": "[encoded data removed]"
          },
          "metadata": {
            "needs_background": "light"
          }
        }
      ]
    },
    {
      "cell_type": "code",
      "source": [
        "import pandas as pd\n",
        "d1 = pd.Series(recall_store)\n",
        "d2 = pd.Series(precision_store)\n",
        "d3 = pd.Series(jaccard_store)\n",
        "d4 = pd.Series(f1_store)\n",
        "df = pd.DataFrame(d1, columns=['Recall'])\n",
        "df['Precision'] = d2\n",
        "df['Jaccard'] = d3\n",
        "df['F1'] = d4\n",
        "df.head()"
      ],
      "metadata": {
        "colab": {
          "base_uri": "https://localhost:8080/",
          "height": 206
        },
        "id": "tQd4pu5VvH3m",
        "outputId": "89959335-643a-4f26-beef-6f491396ff62"
      },
      "execution_count": 92,
      "outputs": [
        {
          "output_type": "execute_result",
          "data": {
            "text/plain": [
              "     Recall  Precision   Jaccard        F1\n",
              "0  0.789381   0.787729  0.652048  0.789381\n",
              "1  0.817703   0.845063  0.691622  0.817703\n",
              "2  0.728323   0.886152  0.572726  0.728323\n",
              "3  0.799207   0.845526  0.665566  0.799207\n",
              "4  0.769906   0.887918  0.625892  0.769906"
            ],
            "text/html": [
              "\n",
              "  <div id=\"df-e0af9452-1034-4200-a3d4-374f30a905bc\">\n",
              "    <div class=\"colab-df-container\">\n",
              "      <div>\n",
              "<style scoped>\n",
              "    .dataframe tbody tr th:only-of-type {\n",
              "        vertical-align: middle;\n",
              "    }\n",
              "\n",
              "    .dataframe tbody tr th {\n",
              "        vertical-align: top;\n",
              "    }\n",
              "\n",
              "    .dataframe thead th {\n",
              "        text-align: right;\n",
              "    }\n",
              "</style>\n",
              "<table border=\"1\" class=\"dataframe\">\n",
              "  <thead>\n",
              "    <tr style=\"text-align: right;\">\n",
              "      <th></th>\n",
              "      <th>Recall</th>\n",
              "      <th>Precision</th>\n",
              "      <th>Jaccard</th>\n",
              "      <th>F1</th>\n",
              "    </tr>\n",
              "  </thead>\n",
              "  <tbody>\n",
              "    <tr>\n",
              "      <th>0</th>\n",
              "      <td>0.789381</td>\n",
              "      <td>0.787729</td>\n",
              "      <td>0.652048</td>\n",
              "      <td>0.789381</td>\n",
              "    </tr>\n",
              "    <tr>\n",
              "      <th>1</th>\n",
              "      <td>0.817703</td>\n",
              "      <td>0.845063</td>\n",
              "      <td>0.691622</td>\n",
              "      <td>0.817703</td>\n",
              "    </tr>\n",
              "    <tr>\n",
              "      <th>2</th>\n",
              "      <td>0.728323</td>\n",
              "      <td>0.886152</td>\n",
              "      <td>0.572726</td>\n",
              "      <td>0.728323</td>\n",
              "    </tr>\n",
              "    <tr>\n",
              "      <th>3</th>\n",
              "      <td>0.799207</td>\n",
              "      <td>0.845526</td>\n",
              "      <td>0.665566</td>\n",
              "      <td>0.799207</td>\n",
              "    </tr>\n",
              "    <tr>\n",
              "      <th>4</th>\n",
              "      <td>0.769906</td>\n",
              "      <td>0.887918</td>\n",
              "      <td>0.625892</td>\n",
              "      <td>0.769906</td>\n",
              "    </tr>\n",
              "  </tbody>\n",
              "</table>\n",
              "</div>\n",
              "      <button class=\"colab-df-convert\" onclick=\"convertToInteractive('df-e0af9452-1034-4200-a3d4-374f30a905bc')\"\n",
              "              title=\"Convert this dataframe to an interactive table.\"\n",
              "              style=\"display:none;\">\n",
              "        \n",
              "  <svg xmlns=\"http://www.w3.org/2000/svg\" height=\"24px\"viewBox=\"0 0 24 24\"\n",
              "       width=\"24px\">\n",
              "    <path d=\"M0 0h24v24H0V0z\" fill=\"none\"/>\n",
              "    <path d=\"M18.56 5.44l.94 2.06.94-2.06 2.06-.94-2.06-.94-.94-2.06-.94 2.06-2.06.94zm-11 1L8.5 8.5l.94-2.06 2.06-.94-2.06-.94L8.5 2.5l-.94 2.06-2.06.94zm10 10l.94 2.06.94-2.06 2.06-.94-2.06-.94-.94-2.06-.94 2.06-2.06.94z\"/><path d=\"M17.41 7.96l-1.37-1.37c-.4-.4-.92-.59-1.43-.59-.52 0-1.04.2-1.43.59L10.3 9.45l-7.72 7.72c-.78.78-.78 2.05 0 2.83L4 21.41c.39.39.9.59 1.41.59.51 0 1.02-.2 1.41-.59l7.78-7.78 2.81-2.81c.8-.78.8-2.07 0-2.86zM5.41 20L4 18.59l7.72-7.72 1.47 1.35L5.41 20z\"/>\n",
              "  </svg>\n",
              "      </button>\n",
              "      \n",
              "  <style>\n",
              "    .colab-df-container {\n",
              "      display:flex;\n",
              "      flex-wrap:wrap;\n",
              "      gap: 12px;\n",
              "    }\n",
              "\n",
              "    .colab-df-convert {\n",
              "      background-color: #E8F0FE;\n",
              "      border: none;\n",
              "      border-radius: 50%;\n",
              "      cursor: pointer;\n",
              "      display: none;\n",
              "      fill: #1967D2;\n",
              "      height: 32px;\n",
              "      padding: 0 0 0 0;\n",
              "      width: 32px;\n",
              "    }\n",
              "\n",
              "    .colab-df-convert:hover {\n",
              "      background-color: #E2EBFA;\n",
              "      box-shadow: 0px 1px 2px rgba(60, 64, 67, 0.3), 0px 1px 3px 1px rgba(60, 64, 67, 0.15);\n",
              "      fill: #174EA6;\n",
              "    }\n",
              "\n",
              "    [theme=dark] .colab-df-convert {\n",
              "      background-color: #3B4455;\n",
              "      fill: #D2E3FC;\n",
              "    }\n",
              "\n",
              "    [theme=dark] .colab-df-convert:hover {\n",
              "      background-color: #434B5C;\n",
              "      box-shadow: 0px 1px 3px 1px rgba(0, 0, 0, 0.15);\n",
              "      filter: drop-shadow(0px 1px 2px rgba(0, 0, 0, 0.3));\n",
              "      fill: #FFFFFF;\n",
              "    }\n",
              "  </style>\n",
              "\n",
              "      <script>\n",
              "        const buttonEl =\n",
              "          document.querySelector('#df-e0af9452-1034-4200-a3d4-374f30a905bc button.colab-df-convert');\n",
              "        buttonEl.style.display =\n",
              "          google.colab.kernel.accessAllowed ? 'block' : 'none';\n",
              "\n",
              "        async function convertToInteractive(key) {\n",
              "          const element = document.querySelector('#df-e0af9452-1034-4200-a3d4-374f30a905bc');\n",
              "          const dataTable =\n",
              "            await google.colab.kernel.invokeFunction('convertToInteractive',\n",
              "                                                     [key], {});\n",
              "          if (!dataTable) return;\n",
              "\n",
              "          const docLinkHtml = 'Like what you see? Visit the ' +\n",
              "            '<a target=\"_blank\" href=https://colab.research.google.com/notebooks/data_table.ipynb>data table notebook</a>'\n",
              "            + ' to learn more about interactive tables.';\n",
              "          element.innerHTML = '';\n",
              "          dataTable['output_type'] = 'display_data';\n",
              "          await google.colab.output.renderOutput(dataTable, element);\n",
              "          const docLink = document.createElement('div');\n",
              "          docLink.innerHTML = docLinkHtml;\n",
              "          element.appendChild(docLink);\n",
              "        }\n",
              "      </script>\n",
              "    </div>\n",
              "  </div>\n",
              "  "
            ]
          },
          "metadata": {},
          "execution_count": 92
        }
      ]
    },
    {
      "cell_type": "code",
      "source": [
        "import seaborn as sns\n",
        "correlation = df.corr()\n",
        "plt.figure(figsize=(10,10))\n",
        "sns.heatmap(correlation,cbar=True,square=True,fmt='.1f', annot=True,annot_kws={'size':8}, cmap='Blues')"
      ],
      "metadata": {
        "id": "cnq5wenEwCCi",
        "colab": {
          "base_uri": "https://localhost:8080/",
          "height": 595
        },
        "outputId": "5f54fe5d-b0b0-49d0-d5fc-c15b5c3a20e1"
      },
      "execution_count": 93,
      "outputs": [
        {
          "output_type": "execute_result",
          "data": {
            "text/plain": [
              "<matplotlib.axes._subplots.AxesSubplot at 0x7fcf7c3fa910>"
            ]
          },
          "metadata": {},
          "execution_count": 93
        },
        {
          "output_type": "display_data",
          "data": {
            "text/plain": [
              "<Figure size 720x720 with 2 Axes>"
            ],
            "image/png": "[encoded data removed]"
          },
          "metadata": {
            "needs_background": "light"
          }
        }
      ]
    },
    {
      "cell_type": "code",
      "source": [
        "plot_items(np.array(precision_store), np.array(recall_store),\"Precision\",\"Recall\",\"Recall\",\"Precision vs Recall\")"
      ],
      "metadata": {
        "id": "X_CM2PiP4FQu",
        "colab": {
          "base_uri": "https://localhost:8080/",
          "height": 295
        },
        "outputId": "c320c43a-4e13-4894-ffc5-5bfa156b6345"
      },
      "execution_count": 94,
      "outputs": [
        {
          "output_type": "display_data",
          "data": {
            "text/plain": [
              "<Figure size 432x288 with 1 Axes>"
            ],
            "image/png": "[encoded data removed]"
          },
          "metadata": {
            "needs_background": "light"
          }
        }
      ]
    },
    {
      "cell_type": "code",
      "source": [
        "plot_items(np.array(jaccard_store), np.array(jaccard_store),\"Jaccard\",\"F1\",\"F1\",\"Jaccard vs F1\")"
      ],
      "metadata": {
        "colab": {
          "base_uri": "https://localhost:8080/",
          "height": 295
        },
        "id": "s92diY5dX9u_",
        "outputId": "e13d10d5-e586-47be-eafe-94e648702f8d"
      },
      "execution_count": 95,
      "outputs": [
        {
          "output_type": "display_data",
          "data": {
            "text/plain": [
              "<Figure size 432x288 with 1 Axes>"
            ],
            "image/png": "[encoded data removed]"
          },
          "metadata": {
            "needs_background": "light"
          }
        }
      ]
    },
    {
      "cell_type": "code",
      "source": [],
      "metadata": {
        "id": "8Y9NVR2LYBhx"
      },
      "execution_count": 95,
      "outputs": []
    }
  ]
}